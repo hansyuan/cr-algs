{
 "cells": [
  {
   "cell_type": "code",
   "execution_count": 1,
   "metadata": {},
   "outputs": [],
   "source": [
    "import read_data\n",
    "import numpy as np\n",
    "from matplotlib import pyplot as plt\n",
    "\n",
    "(calls, allbases, demands, times, calls_latlong) = read_data.populate_data()\n",
    "allbases = np.delete(np.array(allbases), 2, 1)\n",
    "demands = np.delete(np.array(demands), 2, 1)\n",
    "times = np.array(times)\n",
    "calls_latlong = np.array(calls_latlong)\n",
    "\n",
    "ind = np.random.randint(0, allbases.shape[0], 8)\n",
    "bases = allbases[ind,:]\n",
    "points = np.delete(allbases, ind, 0)\n",
    "\n",
    "chosen_base_costs = times[ind,:]"
   ]
  },
  {
   "cell_type": "code",
   "execution_count": 2,
   "metadata": {},
   "outputs": [],
   "source": [
    "def ind_to_set_of_ind_one_removed(chosen_base_costs):\n",
    "    all_one_removed = []\n",
    "    for i in range(len(chosen_base_costs)):\n",
    "        all_one_removed.append(np.delete(chosen_base_costs, i, axis=0))\n",
    "    return all_one_removed"
   ]
  },
  {
   "cell_type": "code",
   "execution_count": 3,
   "metadata": {},
   "outputs": [],
   "source": [
    "all_one_removed = ind_to_set_of_ind_one_removed(chosen_base_costs)\n"
   ]
  },
  {
   "cell_type": "code",
   "execution_count": 4,
   "metadata": {},
   "outputs": [],
   "source": [
    "def radius_to_coverage (chosen_costs, r1=600, graph=True):\n",
    "    r1_coverage = np.any(chosen_costs < r1, 0)\n",
    "    r1_covered = np.nonzero(r1_coverage)\n",
    "    r1_exposed = np.nonzero(np.logical_not(r1_coverage))\n",
    "\n",
    "    c = np.shape(r1_covered)[1]\n",
    "    e = np.shape(r1_exposed)[1]\n",
    "    ratio = (c / (c + e))\n",
    "    \n",
    "\n",
    "    if graph:\n",
    "        plt.figure()\n",
    "        plt.scatter(demands[r1_covered,0],demands[r1_covered,1], c='b')\n",
    "        plt.scatter(demands[r1_exposed,0],demands[r1_exposed,1], c='r')\n",
    "        plt.scatter(bases[:,0],bases[:,1], c='y')\n",
    "        plt.show()\n",
    "    \n",
    "    return 100 * ratio"
   ]
  },
  {
   "cell_type": "code",
   "execution_count": 11,
   "metadata": {},
   "outputs": [
    {
     "data": {
      "image/png": "[encoded data removed]",
      "text/plain": [
       "<matplotlib.figure.Figure at 0x1106e9dd8>"
      ]
     },
     "metadata": {},
     "output_type": "display_data"
    },
    {
     "data": {
      "text/plain": [
       "51.0"
      ]
     },
     "execution_count": 11,
     "metadata": {},
     "output_type": "execute_result"
    }
   ],
   "source": [
    "c = radius_to_coverage(chosen_base_costs)\n",
    "c"
   ]
  },
  {
   "cell_type": "code",
   "execution_count": 29,
   "metadata": {
    "scrolled": false
   },
   "outputs": [
    {
     "name": "stdout",
     "output_type": "stream",
     "text": [
      "Coverage: 40. \tDifference: 11.\n",
      "Coverage: 49. \tDifference: 02.\n",
      "Coverage: 48. \tDifference: 03.\n",
      "Coverage: 48. \tDifference: 03.\n",
      "Coverage: 47. \tDifference: 04.\n",
      "Coverage: 50. \tDifference: 01.\n",
      "Coverage: 47. \tDifference: 04.\n",
      "Coverage: 48. \tDifference: 03.\n"
     ]
    }
   ],
   "source": [
    "\n",
    "for scenario in all_one_removed:\n",
    "    coverage = radius_to_coverage(scenario, graph=False)\n",
    "    print (\"Coverage: %02d.\"%coverage, \"\\tDifference: %02.d.\" %(c - coverage))"
   ]
  },
  {
   "cell_type": "code",
   "execution_count": null,
   "metadata": {},
   "outputs": [],
   "source": []
  }
 ],
 "metadata": {
  "kernelspec": {
   "display_name": "Python 3",
   "language": "python",
   "name": "python3"
  },
  "language_info": {
   "codemirror_mode": {
    "name": "ipython",
    "version": 3
   },
   "file_extension": ".py",
   "mimetype": "text/x-python",
   "name": "python",
   "nbconvert_exporter": "python",
   "pygments_lexer": "ipython3",
   "version": "3.6.3"
  }
 },
 "nbformat": 4,
 "nbformat_minor": 2
}
