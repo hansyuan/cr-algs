{
 "cells": [
  {
   "cell_type": "markdown",
   "metadata": {},
   "source": [
    "# Picking an Ambulance\n",
    "\n",
    "### Based on two criteria\n",
    "\n",
    "- Closest ambulance - Based on shortest travel timeio\n",
    "- Disruption - When I remove one ambulance, what is the resulting coverage and the difference? \n",
    "\n",
    "### Decision factor: \n",
    "- Severity of the case"
   ]
  },
  {
   "cell_type": "code",
   "execution_count": 4,
   "metadata": {},
   "outputs": [],
   "source": [
    "import read_data\n",
    "import numpy as np\n",
    "from matplotlib import pyplot as plt\n",
    "import copy\n",
    "import time\n",
    "\n",
    "# Data\n",
    "(calls, allbases, demands, times, calls_latlong) = read_data.populate_data()\n",
    "allbases = np.delete(np.array(allbases), 2, 1)\n",
    "demands = np.delete(np.array(demands), 2, 1)\n",
    "times = np.array(times)\n",
    "calls_latlong = np.array(calls_latlong)\n",
    "\n",
    "num_ambulances = 8"
   ]
  },
  {
   "cell_type": "code",
   "execution_count": 6,
   "metadata": {},
   "outputs": [
    {
     "name": "stdout",
     "output_type": "stream",
     "text": [
      "(969, 100)\n",
      "(969, 72)\n",
      "(969, 54)\n",
      "(969, 38)\n",
      "(969, 26)\n",
      "(969, 19)\n",
      "(969, 15)\n",
      "(969, 11)\n",
      "Total Covered:  92\n"
     ]
    }
   ],
   "source": [
    "# Pasted from yesterday: choose bases using greedy\n",
    "# Get the first base\n",
    "times_copy = copy.deepcopy(times)\n",
    "\n",
    "# Continually get the min cost row (most optimal base)\n",
    "# Delete the columns that are covered by this base by r1\n",
    "# Recalculate the total cost for each base\n",
    "# Repeat\n",
    "\n",
    "r1 = 600\n",
    "\n",
    "numbases = 8\n",
    "list_bases = []\n",
    "total_covered = []\n",
    "for x in range(numbases):\n",
    "    print(np.shape(times_copy))\n",
    "    covered = []\n",
    "    row_num = 0\n",
    "    for row in times_copy:\n",
    "        count = 0\n",
    "        for col in row:\n",
    "            if col < r1:\n",
    "                count += 1\n",
    "        covered.append((row_num, count))\n",
    "        row_num += 1\n",
    "    \n",
    "    d = [('index', int), ('covered', int)]\n",
    "    covered = np.array(covered, d)\n",
    "    \n",
    "    min_cost = (np.sort(covered, order='covered', kind='mergesort')[-1])\n",
    "\n",
    "    list_bases.append(min_cost[0])\n",
    "    \n",
    "    # Delete the columns (demands) that are covered by r1.\n",
    "    \n",
    "    primary_covered = [times_copy[min_cost[0]][i] < r1 for i in range(len(times_copy[min_cost[0]]))]\n",
    "    covered_indices = [i for i in range(len(primary_covered)) if primary_covered[i] ]\n",
    "    total_covered += covered_indices\n",
    "\n",
    "    times_copy = np.delete(times_copy, covered_indices, axis=1)\n",
    "\n",
    "ind = list_bases\n",
    "print(\"Total Covered: \" , len(total_covered))"
   ]
  },
  {
   "cell_type": "code",
   "execution_count": 7,
   "metadata": {},
   "outputs": [],
   "source": [
    "# ind = np.random.randint(0, allbases.shape[0], num_ambulances)\n",
    "bases = allbases[ind,:]\n",
    "points = np.delete(allbases, ind, 0)\n",
    "\n",
    "chosen_base_costs = times[ind,:]"
   ]
  },
  {
   "cell_type": "markdown",
   "metadata": {},
   "source": [
    "Need the travel time between the ambulance starting location and the case end location. \n",
    "\n",
    "- If ambulance is at base, and location can be using demand location, then do (base, location) --> (base, time)\n",
    "- Else, query Google"
   ]
  },
  {
   "cell_type": "code",
   "execution_count": 8,
   "metadata": {},
   "outputs": [
    {
     "data": {
      "text/plain": [
       "33"
      ]
     },
     "execution_count": 8,
     "metadata": {},
     "output_type": "execute_result"
    }
   ],
   "source": [
    "# Randomly choose a demand point\n",
    "call_location = np.random.randint(0, high=100)\n",
    "call_location"
   ]
  },
  {
   "cell_type": "code",
   "execution_count": 9,
   "metadata": {},
   "outputs": [
    {
     "data": {
      "text/plain": [
       "(0, 578.0, array([ 578.,  805., 1271., 1288., 1543.,  995., 1173., 1124.]))"
      ]
     },
     "execution_count": 9,
     "metadata": {},
     "output_type": "execute_result"
    }
   ],
   "source": [
    "# Fastest it can get there\n",
    "current_travel_times = chosen_base_costs[:, call_location]\n",
    "fastest = np.min(current_travel_times)\n",
    "ambulance = -1\n",
    "\n",
    "# Which ambulance to choose from chosen_base_costs? \n",
    "for amb in range(len(current_travel_times)):\n",
    "    if fastest == current_travel_times[amb]:\n",
    "        ambulance = amb\n",
    "        break\n",
    "ambulance, fastest, current_travel_times"
   ]
  },
  {
   "cell_type": "code",
   "execution_count": 10,
   "metadata": {},
   "outputs": [],
   "source": [
    "def ind_to_set_of_ind_one_removed(chosen_base_costs):\n",
    "    \"\"\" Returns the set of all sets of bases with one ambulance removed. \"\"\"\n",
    "    \n",
    "    all_one_removed = []\n",
    "    for i in range(len(chosen_base_costs)):\n",
    "        all_one_removed.append(np.delete(chosen_base_costs, i, axis=0))\n",
    "    return all_one_removed"
   ]
  },
  {
   "cell_type": "code",
   "execution_count": 11,
   "metadata": {},
   "outputs": [],
   "source": [
    "all_one_removed = ind_to_set_of_ind_one_removed(chosen_base_costs)"
   ]
  },
  {
   "cell_type": "code",
   "execution_count": 12,
   "metadata": {},
   "outputs": [],
   "source": [
    "def radius_to_coverage (chosen_costs, r1=600, graph=True):\n",
    "    r1_coverage = np.any(chosen_costs < r1, 0)\n",
    "    r1_covered = np.nonzero(r1_coverage)\n",
    "    r1_exposed = np.nonzero(np.logical_not(r1_coverage))\n",
    "\n",
    "    c = np.shape(r1_covered)[1]\n",
    "    e = np.shape(r1_exposed)[1]\n",
    "    ratio = (c / (c + e))\n",
    "    \n",
    "\n",
    "    if graph:\n",
    "        plt.figure()\n",
    "        plt.scatter(demands[r1_covered,0],demands[r1_covered,1], c='b')\n",
    "        plt.scatter(demands[r1_exposed,0],demands[r1_exposed,1], c='r')\n",
    "        plt.scatter(demands[call_location,0], demands[call_location,1], c='green')\n",
    "        plt.scatter(bases[:,0],bases[:,1], c='y')\n",
    "        plt.show()\n",
    "    \n",
    "    return 100 * ratio"
   ]
  },
  {
   "cell_type": "code",
   "execution_count": 13,
   "metadata": {},
   "outputs": [
    {
     "data": {
      "image/png": "[encoded data removed]",
      "text/plain": [
       "<matplotlib.figure.Figure at 0x10894f588>"
      ]
     },
     "metadata": {},
     "output_type": "display_data"
    },
    {
     "data": {
      "text/plain": [
       "92.0"
      ]
     },
     "execution_count": 13,
     "metadata": {},
     "output_type": "execute_result"
    }
   ],
   "source": [
    "c = radius_to_coverage(chosen_base_costs)\n",
    "c"
   ]
  },
  {
   "cell_type": "code",
   "execution_count": 14,
   "metadata": {
    "scrolled": false
   },
   "outputs": [
    {
     "name": "stdout",
     "output_type": "stream",
     "text": [
      "Amb # 0:   Travel time of   9 min  38 secs.  Resulting coverage of  75%  and disruption of:  17%\n",
      "Amb # 1:   Travel time of  13 min  25 secs.  Resulting coverage of  76%  and disruption of:  16%\n",
      "Amb # 2:   Travel time of  21 min  11 secs.  Resulting coverage of  76%  and disruption of:  16%\n",
      "Amb # 3:   Travel time of  21 min  28 secs.  Resulting coverage of  89%  and disruption of:   3%\n",
      "Amb # 4:   Travel time of  25 min  43 secs.  Resulting coverage of  88%  and disruption of:   4%\n",
      "Amb # 5:   Travel time of  16 min  35 secs.  Resulting coverage of  88%  and disruption of:   4%\n",
      "Amb # 6:   Travel time of  19 min  33 secs.  Resulting coverage of  88%  and disruption of:   4%\n",
      "Amb # 7:   Travel time of  18 min  44 secs.  Resulting coverage of  89%  and disruption of:   3%\n",
      "\n"
     ]
    }
   ],
   "source": [
    "facts = []\n",
    "for amb in range(0, num_ambulances):\n",
    "    coverage = radius_to_coverage(all_one_removed[amb], graph=False)\n",
    "    print (\"Amb #%2d:  \"% amb, \n",
    "           \"Travel time of  %2d min  %2d secs. \" % (current_travel_times [amb] / 60, current_travel_times[amb] % 60) ,\n",
    "           \"Resulting coverage of  %2d%% \" % coverage, \n",
    "           \"and disruption of:  %2.f%%\" % (c - coverage)\n",
    "          )\n",
    "    facts.append((amb, current_travel_times [amb], coverage, c-coverage, \n",
    "                 current_travel_times [amb]/ coverage))\n",
    "d = [\n",
    "        ('amb', int), \n",
    "        ('travel', int), \n",
    "        ('cover_result', float),\n",
    "        ('disruption', float),\n",
    "        ('composite', float)\n",
    "    ]\n",
    "print()\n",
    "\n",
    "facts = np.array(facts, dtype=d)\n",
    "\n"
   ]
  },
  {
   "cell_type": "markdown",
   "metadata": {},
   "source": [
    "### Making a decision\n",
    "\n",
    "- Now there are `n` ambulances, ordered by the shortest travel time and the least disruption. \n",
    "\n",
    "- Depending on the severity of the case, decide whether the fastest time is necessary, or we can optimize for the set coverage.\n",
    "\n",
    "- If there is a tie in one of the metrics, then choose the lowest of the two in the other metric."
   ]
  },
  {
   "cell_type": "code",
   "execution_count": 15,
   "metadata": {},
   "outputs": [],
   "source": [
    "def most_severe(ambs):\n",
    "    return_list=[]\n",
    "    acceptable_delta = 3\n",
    "    \n",
    "    fastest_amb = ambs[0]\n",
    "    \n",
    "    for amb in ambs:\n",
    "        if amb['disruption'] - fastest_amb['disruption'] < acceptable_delta:\n",
    "            return_list.append(amb['amb'])\n",
    "        else:\n",
    "            return return_list\n",
    "    return return_list\n",
    "        \n",
    "    \n",
    "def coverage_or_shortest(ambs, severity):\n",
    "    \"\"\" Highest Severity is 5, Lowest is 1 \"\"\"\n",
    "#     if not ambs: \n",
    "#         print(\"Error: empty decision list.\")\n",
    "#         return\n",
    "#     if severity > 5 or severity < 1: \n",
    "#         print(\"Error: invalid severity\")\n",
    "#         return\n",
    "    \n",
    "    if severity <= 5 or severity >= 3:\n",
    "        print(\"Optimizing for travel time. \")\n",
    "        ranked_ambulances = np.sort(ambs, order='travel')\n",
    "        \n",
    "        if severity == 5: return most_severe(ranked_ambulances)\n",
    "#         elif severity == 4: \n",
    "            \n",
    "        \n",
    "    else:\n",
    "        print(\"Optimizing for set coverage. \")\n",
    "    \n",
    "    "
   ]
  },
  {
   "cell_type": "code",
   "execution_count": 16,
   "metadata": {},
   "outputs": [
    {
     "name": "stdout",
     "output_type": "stream",
     "text": [
      "Sort by travel time.\n",
      "(0, 578, 75., 17., 7.70666667)\n",
      "(1, 805, 76., 16., 10.59210526)\n",
      "(5, 995, 88., 4., 11.30681818)\n",
      "(7, 1124, 89., 3., 12.62921348)\n",
      "(6, 1173, 88., 4., 13.32954545)\n",
      "(2, 1271, 76., 16., 16.72368421)\n",
      "(3, 1288, 89., 3., 14.47191011)\n",
      "(4, 1543, 88., 4., 17.53409091)\n",
      "Shortest Travel:  (0, 578, 75., 17., 7.70666667) \n",
      "\n",
      "Sort by maximal coverage.\n",
      "(3, 1288, 89., 3., 14.47191011)\n",
      "(7, 1124, 89., 3., 12.62921348)\n",
      "(4, 1543, 88., 4., 17.53409091)\n",
      "(5, 995, 88., 4., 11.30681818)\n",
      "(6, 1173, 88., 4., 13.32954545)\n",
      "(1, 805, 76., 16., 10.59210526)\n",
      "(2, 1271, 76., 16., 16.72368421)\n",
      "(0, 578, 75., 17., 7.70666667)\n",
      "Least disruption:  (3, 1288, 89., 3., 14.47191011) \n",
      "\n",
      "Severity level 5\n",
      "Optimizing for travel time. \n"
     ]
    },
    {
     "data": {
      "text/plain": [
       "[0, 1, 5, 7, 6, 2, 3, 4]"
      ]
     },
     "execution_count": 16,
     "metadata": {},
     "output_type": "execute_result"
    }
   ],
   "source": [
    "print(\"Sort by travel time.\")\n",
    "sort = np.sort(facts, order='travel')\n",
    "for e in sort:\n",
    "    print(e)\n",
    "print(\"Shortest Travel: \" , sort[0], \"\\n\")\n",
    "\n",
    "print(\"Sort by maximal coverage.\")\n",
    "sort = np.sort(facts, order='disruption')\n",
    "sort\n",
    "for e in sort:\n",
    "    print(e)\n",
    "print(\"Least disruption: \", sort[0], \"\\n\")\n",
    "\n",
    "severity = 5\n",
    "print(\"Severity level %d\" %severity)\n",
    "chosen_ambulances = coverage_or_shortest(facts, severity)\n",
    "\n",
    "chosen_ambulances"
   ]
  },
  {
   "cell_type": "code",
   "execution_count": 17,
   "metadata": {},
   "outputs": [
    {
     "name": "stdout",
     "output_type": "stream",
     "text": [
      "Original:\n"
     ]
    },
    {
     "data": {
      "image/png": "[encoded data removed]",
      "text/plain": [
       "<matplotlib.figure.Figure at 0x10935c240>"
      ]
     },
     "metadata": {},
     "output_type": "display_data"
    },
    {
     "name": "stdout",
     "output_type": "stream",
     "text": [
      "Fastest travel time\n"
     ]
    },
    {
     "data": {
      "image/png": "[encoded data removed]",
      "text/plain": [
       "<matplotlib.figure.Figure at 0x10935c1d0>"
      ]
     },
     "metadata": {},
     "output_type": "display_data"
    }
   ],
   "source": [
    "print (\"Original:\")\n",
    "radius_to_coverage(chosen_base_costs)\n",
    "\n",
    "top_amb = chosen_ambulances[0]\n",
    "\n",
    "\n",
    "# print(np.shape(chosen_base_costs))\n",
    "# print(chosen_base_costs)\n",
    "new_coverage = copy.deepcopy(chosen_base_costs)\n",
    "new_coverage = np.delete(new_coverage, top_amb, axis=0)\n",
    "\n",
    "\n",
    "\n",
    "r1_coverage = np.any(new_coverage < r1, 0)\n",
    "\n",
    "# print(r1_coverage)\n",
    "r1_covered = np.nonzero(r1_coverage)\n",
    "r1_exposed = np.nonzero(np.logical_not(r1_coverage))\n",
    "plt.figure()\n",
    "plt.scatter(demands[r1_covered,0],demands[r1_covered,1], c='b')\n",
    "plt.scatter(demands[r1_exposed,0],demands[r1_exposed,1], c='r')\n",
    "plt.scatter(bases[:,0],bases[:,1], c='y')\n",
    "\n",
    "plt.scatter(bases[top_amb,0], bases[top_amb,1], c='black')\n",
    "plt.scatter(demands[call_location,0], demands[call_location,1], c='green')\n",
    "\n",
    "\n",
    "\n",
    "\n",
    "print (\"Fastest travel time\")\n",
    "plt.show()"
   ]
  },
  {
   "cell_type": "code",
   "execution_count": 18,
   "metadata": {},
   "outputs": [
    {
     "name": "stdout",
     "output_type": "stream",
     "text": [
      "Original:\n"
     ]
    },
    {
     "data": {
      "image/png": "[encoded data removed]",
      "text/plain": [
       "<matplotlib.figure.Figure at 0x108a3e588>"
      ]
     },
     "metadata": {},
     "output_type": "display_data"
    },
    {
     "name": "stdout",
     "output_type": "stream",
     "text": [
      "Least Coverage loss\n"
     ]
    },
    {
     "data": {
      "image/png": "[encoded data removed]",
      "text/plain": [
       "<matplotlib.figure.Figure at 0x107ce3eb8>"
      ]
     },
     "metadata": {},
     "output_type": "display_data"
    }
   ],
   "source": [
    "print (\"Original:\")\n",
    "radius_to_coverage(chosen_base_costs)\n",
    "\n",
    "top_amb = sort[0][0]\n",
    "\n",
    "# print(np.shape(chosen_base_costs))\n",
    "# print(chosen_base_costs)\n",
    "new_coverage = copy.deepcopy(chosen_base_costs)\n",
    "new_coverage = np.delete(new_coverage, top_amb, axis=0)\n",
    "\n",
    "\n",
    "\n",
    "r1_coverage = np.any(new_coverage < r1, 0)\n",
    "\n",
    "# print(r1_coverage)\n",
    "r1_covered = np.nonzero(r1_coverage)\n",
    "r1_exposed = np.nonzero(np.logical_not(r1_coverage))\n",
    "plt.figure()\n",
    "plt.scatter(demands[r1_covered,0],demands[r1_covered,1], c='b')\n",
    "plt.scatter(demands[r1_exposed,0],demands[r1_exposed,1], c='r')\n",
    "plt.scatter(bases[:,0],bases[:,1], c='y')\n",
    "\n",
    "plt.scatter(bases[top_amb,0], bases[top_amb,1], c='black')\n",
    "plt.scatter(demands[call_location,0], demands[call_location,1], c='green')\n",
    "\n",
    "print(\"Least Coverage loss\")\n",
    "\n",
    "plt.show()\n"
   ]
  },
  {
   "cell_type": "markdown",
   "metadata": {},
   "source": [
    "### Next step\n",
    "\n",
    "- Severity -- static calculation?\n",
    "- Moving an off duty ambulance to another location. Since this ambulance would technically be on duty, a granular calculation of set coverage?"
   ]
  },
  {
   "cell_type": "code",
   "execution_count": null,
   "metadata": {},
   "outputs": [],
   "source": []
  }
 ],
 "metadata": {
  "kernelspec": {
   "display_name": "Python 3",
   "language": "python",
   "name": "python3"
  },
  "language_info": {
   "codemirror_mode": {
    "name": "ipython",
    "version": 3
   },
   "file_extension": ".py",
   "mimetype": "text/x-python",
   "name": "python",
   "nbconvert_exporter": "python",
   "pygments_lexer": "ipython3",
   "version": "3.6.4"
  }
 },
 "nbformat": 4,
 "nbformat_minor": 2
}
