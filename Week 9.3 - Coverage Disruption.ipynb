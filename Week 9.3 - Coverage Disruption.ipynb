{
 "cells": [
  {
   "cell_type": "markdown",
   "metadata": {},
   "source": [
    "# Picking an Ambulance\n",
    "\n",
    "Base on two criteria\n",
    "\n",
    "- Closest ambulance - Based on shortest travel time\n",
    "- Disruption - When I remove one ambulance, what is the resulting coverage and the difference? "
   ]
  },
  {
   "cell_type": "code",
   "execution_count": 1,
   "metadata": {},
   "outputs": [],
   "source": [
    "import read_data\n",
    "import numpy as np\n",
    "from matplotlib import pyplot as plt\n",
    "\n",
    "# Data\n",
    "(calls, allbases, demands, times, calls_latlong) = read_data.populate_data()\n",
    "allbases = np.delete(np.array(allbases), 2, 1)\n",
    "demands = np.delete(np.array(demands), 2, 1)\n",
    "times = np.array(times)\n",
    "calls_latlong = np.array(calls_latlong)\n",
    "\n",
    "num_ambulances = 8\n",
    "\n",
    "ind = np.random.randint(0, allbases.shape[0], num_ambulances)\n",
    "bases = allbases[ind,:]\n",
    "points = np.delete(allbases, ind, 0)\n",
    "\n",
    "chosen_base_costs = times[ind,:]\n"
   ]
  },
  {
   "cell_type": "markdown",
   "metadata": {},
   "source": [
    "Need the travel time between the ambulance starting location and the case end location. \n",
    "\n",
    "- If ambulance is at base, and location can be using demand location, then do (base, location) --> (base, time)\n",
    "- Else, query Google"
   ]
  },
  {
   "cell_type": "code",
   "execution_count": 2,
   "metadata": {},
   "outputs": [
    {
     "data": {
      "text/plain": [
       "93"
      ]
     },
     "execution_count": 2,
     "metadata": {},
     "output_type": "execute_result"
    }
   ],
   "source": [
    "# Randomly choose a demand point\n",
    "call_location = np.random.randint(0, high=100)\n",
    "call_location"
   ]
  },
  {
   "cell_type": "code",
   "execution_count": 3,
   "metadata": {},
   "outputs": [
    {
     "data": {
      "text/plain": [
       "(3,\n",
       " 346.0,\n",
       " array([ 1144.,   786.,   581.,   346.,  1076.,  1053.,   661.,   909.]))"
      ]
     },
     "execution_count": 3,
     "metadata": {},
     "output_type": "execute_result"
    }
   ],
   "source": [
    "# Fastest it can get there\n",
    "current_travel_times = chosen_base_costs[:, call_location]\n",
    "fastest = np.min(current_travel_times)\n",
    "ambulance = -1\n",
    "\n",
    "# Which ambulance to choose from chosen_base_costs? \n",
    "for amb in range(len(current_travel_times)):\n",
    "    if fastest == current_travel_times[amb]:\n",
    "        ambulance = amb\n",
    "        break\n",
    "ambulance, fastest, current_travel_times"
   ]
  },
  {
   "cell_type": "code",
   "execution_count": 4,
   "metadata": {},
   "outputs": [],
   "source": [
    "def ind_to_set_of_ind_one_removed(chosen_base_costs):\n",
    "    \"\"\" Returns the set of all sets of bases with one ambulance removed. \"\"\"\n",
    "    \n",
    "    all_one_removed = []\n",
    "    for i in range(len(chosen_base_costs)):\n",
    "        all_one_removed.append(np.delete(chosen_base_costs, i, axis=0))\n",
    "    return all_one_removed"
   ]
  },
  {
   "cell_type": "code",
   "execution_count": 5,
   "metadata": {},
   "outputs": [],
   "source": [
    "all_one_removed = ind_to_set_of_ind_one_removed(chosen_base_costs)"
   ]
  },
  {
   "cell_type": "code",
   "execution_count": 10,
   "metadata": {},
   "outputs": [],
   "source": [
    "def radius_to_coverage (chosen_costs, r1=600, graph=True):\n",
    "    r1_coverage = np.any(chosen_costs < r1, 0)\n",
    "    r1_covered = np.nonzero(r1_coverage)\n",
    "    r1_exposed = np.nonzero(np.logical_not(r1_coverage))\n",
    "\n",
    "    c = np.shape(r1_covered)[1]\n",
    "    e = np.shape(r1_exposed)[1]\n",
    "    ratio = (c / (c + e))\n",
    "    \n",
    "\n",
    "    if graph:\n",
    "        plt.figure()\n",
    "        plt.scatter(demands[r1_covered,0],demands[r1_covered,1], c='b')\n",
    "        plt.scatter(demands[r1_exposed,0],demands[r1_exposed,1], c='r')\n",
    "        plt.scatter(bases[:,0],bases[:,1], c='y')\n",
    "        plt.show()\n",
    "    \n",
    "    return 100 * ratio"
   ]
  },
  {
   "cell_type": "code",
   "execution_count": 11,
   "metadata": {},
   "outputs": [
    {
     "data": {
      "image/png": "[encoded data removed]",
      "text/plain": [
       "<matplotlib.figure.Figure at 0x1102f5978>"
      ]
     },
     "metadata": {},
     "output_type": "display_data"
    },
    {
     "data": {
      "text/plain": [
       "56.99999999999999"
      ]
     },
     "execution_count": 11,
     "metadata": {},
     "output_type": "execute_result"
    }
   ],
   "source": [
    "c = radius_to_coverage(chosen_base_costs)\n",
    "c"
   ]
  },
  {
   "cell_type": "code",
   "execution_count": 13,
   "metadata": {
    "scrolled": false
   },
   "outputs": [
    {
     "name": "stdout",
     "output_type": "stream",
     "text": [
      "Amb  0.  Travel:  1144.  Cover:  55.  Disruption:  2.0. \n",
      "Amb  1.  Travel:   786.  Cover:  56.  Disruption:  0.0. \n",
      "Amb  2.  Travel:   581.  Cover:  54.  Disruption:  3.0. \n",
      "Amb  3.  Travel:   346.  Cover:  56.  Disruption:  1.0. \n",
      "Amb  4.  Travel:  1076.  Cover:  46.  Disruption:  11.0. \n",
      "Amb  5.  Travel:  1053.  Cover:  54.  Disruption:  3.0. \n",
      "Amb  6.  Travel:   661.  Cover:  54.  Disruption:  3.0. \n",
      "Amb  7.  Travel:   909.  Cover:  54.  Disruption:  3.0. \n",
      "Fastest Time: 346\n"
     ]
    }
   ],
   "source": [
    "for amb in range(0, num_ambulances):\n",
    "    coverage = radius_to_coverage(all_one_removed[amb], graph=False)\n",
    "    print (\"Amb %2d. \"% amb, \n",
    "           \"Travel:  %4d. \" % current_travel_times [amb],\n",
    "           \"Cover:  %2d. \" % coverage, \n",
    "           \"Disruption:  %2.1f. \" % (c - coverage)\n",
    "          )\n",
    "print (\"Fastest Time: %d\" % fastest )"
   ]
  },
  {
   "cell_type": "code",
   "execution_count": null,
   "metadata": {},
   "outputs": [],
   "source": []
  }
 ],
 "metadata": {
  "kernelspec": {
   "display_name": "Python 3",
   "language": "python",
   "name": "python3"
  },
  "language_info": {
   "codemirror_mode": {
    "name": "ipython",
    "version": 3
   },
   "file_extension": ".py",
   "mimetype": "text/x-python",
   "name": "python",
   "nbconvert_exporter": "python",
   "pygments_lexer": "ipython3",
   "version": "3.6.3"
  }
 },
 "nbformat": 4,
 "nbformat_minor": 2
}
