{
 "cells": [
  {
   "cell_type": "code",
   "execution_count": 1,
   "metadata": {},
   "outputs": [],
   "source": [
    "# Copied over\n",
    "import read_data\n",
    "import numpy as np\n",
    "from matplotlib import pyplot as plt\n",
    "import copy\n",
    "\n",
    "from scipy.cluster.vq import vq, kmeans, whiten\n",
    "import execute as exe"
   ]
  },
  {
   "cell_type": "code",
   "execution_count": 2,
   "metadata": {},
   "outputs": [],
   "source": [
    "# Copied over\n",
    "(calls, allbases, demands, times, calls_latlong) = read_data.populate_data()\n",
    "\n",
    "allbases = np.delete(np.array(allbases), 2, 1) # Array of all the bases\n",
    "demands = np.delete(np.array(demands), 2, 1)   # Array of all the demands\n",
    "times = np.array(times)                        # Array of all the times\n",
    "calls_latlong = np.array(calls_latlong)        # Array of location of the calls"
   ]
  },
  {
   "cell_type": "code",
   "execution_count": 3,
   "metadata": {
    "scrolled": true
   },
   "outputs": [
    {
     "name": "stdout",
     "output_type": "stream",
     "text": [
      "[[ 1709.  1583.  1851. ...,   294.  1349.   984.]\n",
      " [ 1801.  1676.  1944. ...,   292.  1441.  1076.]\n",
      " [ 1819.  1693.  1961. ...,   197.  1459.  1094.]\n",
      " ..., \n",
      " [ 1308.  1372.  1225. ...,  1838.  1242.   905.]\n",
      " [ 1143.  1019.  1292. ...,  1607.   799.   593.]\n",
      " [  641.   531.   619. ...,  1977.   423.  1130.]]\n",
      "\n",
      "\n",
      "\n",
      "[ 202.   50.  114.   71.   40.   90.   75.  137.   42.   89.  124.   76.\n",
      "   52.  141.  322.  337.   51.   76.   36.   67.   99.  140.   18.  113.\n",
      "   35.   43.   97.  161.    1.   68.  112.   20.  330.   89.  197.   34.\n",
      "   56.   68.   89.   37.   34.   67.   58.  123.   83.   38.   69.    0.\n",
      "  255.  456.  167.   52.   56.   66.    0.    8.  167.   69.   65.  106.\n",
      "  140.   27.   63.   99.   94.  104.   19.   52.  162.   37.    2.  486.\n",
      "  246.  115.   24.  405.  143.   68.  156.   41.   31.  120.    6.   95.\n",
      "   45.   86.  154.  230.  113.   50.   68.   81.   84.   66.   89.   95.\n",
      "   16.   78.   16.   68.]\n",
      "Found a common element at position 86\n",
      "Found a common element at position 37\n",
      "Found a common element at position 34\n",
      "Found a common element at position 34\n",
      "Found a common element at position 93\n",
      "Found a common element at position 17\n",
      "Found a common element at position 55\n",
      "Found a common element at position 31\n",
      "Found a common element at position 38\n",
      "Found a common element at position 12\n",
      "Found a common element at position 89\n",
      "Found a common element at position 70\n",
      "Found a common element at position 59\n",
      "Found a common element at position 69\n",
      "Found a common element at position 10\n",
      "Found a common element at position 0\n",
      "Found a common element at position 72\n",
      "Found a common element at position 51\n",
      "Found a common element at position 36\n",
      "Found a common element at position 83\n",
      "Found a common element at position 54\n",
      "Found a common element at position 94\n",
      "Found a common element at position 53\n",
      "Found a common element at position 5\n",
      "Found a common element at position 4\n",
      "Found a common element at position 80\n",
      "Found a common element at position 67\n",
      "Found a common element at position 75\n",
      "Found a common element at position 97\n",
      "Found a common element at position 44\n",
      "Found a common element at position 77\n",
      "Found a common element at position 41\n",
      "Found a common element at position 92\n",
      "Found a common element at position 85\n",
      "Found a common element at position 74\n",
      "Found a common element at position 48\n",
      "Found a common element at position 73\n",
      "Found a common element at position 58\n",
      "Found a common element at position 78\n",
      "Found a common element at position 50\n",
      "Found a common element at position 91\n",
      "Found a common element at position 81\n",
      "Found a common element at position 16\n",
      "Found a common element at position 52\n",
      "Found a common element at position 65\n",
      "Found a common element at position 65\n",
      "Found a common element at position 16\n",
      "Found a common element at position 25\n",
      "Found a common element at position 26\n",
      "Found a common element at position 46\n",
      "Found a common element at position 24\n",
      "Found a common element at position 13\n",
      "Found a common element at position 28\n",
      "Found a common element at position 6\n",
      "Found a common element at position 90\n",
      "Found a common element at position 11\n",
      "Found a common element at position 8\n",
      "Found a common element at position 84\n",
      "Found a common element at position 56\n",
      "Found a common element at position 56\n",
      "Found a common element at position 29\n",
      "Found a common element at position 68\n",
      "Found a common element at position 49\n",
      "Found a common element at position 27\n",
      "Found a common element at position 88\n",
      "Found a common element at position 82\n",
      "Found a common element at position 42\n",
      "Found a common element at position 95\n",
      "Found a common element at position 15\n",
      "Found a common element at position 14\n",
      "Found a common element at position 62\n",
      "Found a common element at position 60\n",
      "Found a common element at position 98\n",
      "Found a common element at position 1\n",
      "Found a common element at position 3\n",
      "Found a common element at position 63\n",
      "Found a common element at position 22\n",
      "Found a common element at position 23\n",
      "Found a common element at position 18\n",
      "Found a common element at position 45\n",
      "Found a common element at position 40\n",
      "Found a common element at position 92\n",
      "Found a common element at position 48\n",
      "Found a common element at position 57\n",
      "Found a common element at position 61\n",
      "Found a common element at position 76\n",
      "Found a common element at position 35\n",
      "Found a common element at position 66\n",
      "Found a common element at position 30\n",
      "Found a common element at position 33\n",
      "Found a common element at position 54\n",
      "Found a common element at position 21\n",
      "Found a common element at position 32\n",
      "Found a common element at position 16\n",
      "Found a common element at position 57\n",
      "Found a common element at position 57\n",
      "Found a common element at position 9\n",
      "Found a common element at position 64\n",
      "Found a common element at position 39\n",
      "Found a common element at position 84\n",
      "Found a common element at position 61\n",
      "Found a common element at position 99\n",
      "Found a common element at position 7\n",
      "Found a common element at position 71\n",
      "Found a common element at position 19\n",
      "Found a common element at position 1\n",
      "Found a common element at position 47\n",
      "Found a common element at position 96\n",
      "Found a common element at position 2\n",
      "Found a common element at position 43\n",
      "Found a common element at position 79\n",
      "Found a common element at position 20\n",
      "Found a common element at position 87\n"
     ]
    }
   ],
   "source": [
    "# Generate random set of bases.\n",
    "\n",
    "times_copy = copy.deepcopy(times)\n",
    "choose = 1\n",
    "count = 0\n",
    "iters = 0\n",
    "\n",
    "print(times) \n",
    "print(\"\\n\\n\")\n",
    "min_row = np.min(times_copy, axis=0)\n",
    "print(min_row)\n",
    "for row in times:\n",
    "\n",
    "    for x in range(np.shape(min_row)[0]):\n",
    "        if row[x] == min_row[x]:\n",
    "            print(\"Found a common element at position %d\" %x)\n",
    "\n",
    "\n"
   ]
  },
  {
   "cell_type": "markdown",
   "metadata": {},
   "source": [
    "# Learned\n",
    "I feel like I just waited a ton of time because I found out what numpy.min really does..."
   ]
  },
  {
   "cell_type": "code",
   "execution_count": 12,
   "metadata": {
    "scrolled": true
   },
   "outputs": [
    {
     "name": "stdout",
     "output_type": "stream",
     "text": [
      "85971.0 209302.0 18264.4812571 118390.952528 333591275.591\n"
     ]
    },
    {
     "data": {
      "text/plain": [
       "array([(0,  119174.), (1,  128299.), (2,  129961.), (3,  138175.),\n",
       "       (4,  132279.), (5,  128015.), (6,  138502.), (7,  120069.)],\n",
       "      dtype=[('index', '<i8'), ('cost', '<f8')])"
      ]
     },
     "execution_count": 12,
     "metadata": {},
     "output_type": "execute_result"
    }
   ],
   "source": [
    "times_copy = copy.deepcopy(times)\n",
    "\n",
    "# In order to rank each row, I need to make my own metric.\n",
    "\n",
    "costs = [np.sum(row) for row in times]\n",
    "\n",
    "print(np.min(costs), np.max(costs), np.std(costs), np.mean(costs), np.var(costs))\n",
    "\n",
    "d = [('index', int), ('cost', float)]\n",
    "costs = np.array([(i, costs[i]) for i in range(np.shape(times)[0])], dtype=d)"
   ]
  },
  {
   "cell_type": "code",
   "execution_count": 13,
   "metadata": {},
   "outputs": [
    {
     "data": {
      "text/plain": [
       "array([( 59,  85971.), (425,  87279.), (891,  87309.), (115,  87846.),\n",
       "       (280,  88180.), (111,  88741.), ( 26,  88862.), (122,  88987.)],\n",
       "      dtype=[('index', '<i8'), ('cost', '<f8')])"
      ]
     },
     "execution_count": 13,
     "metadata": {},
     "output_type": "execute_result"
    }
   ],
   "source": [
    "# Find the bases with the least times\n",
    "\n",
    "sorted_costs = np.sort(costs, kind='mergesort', order='cost')\n",
    "ind = [t[0] for t in sorted_costs[0:8]]\n",
    "sorted_costs[0:8]"
   ]
  },
  {
   "cell_type": "code",
   "execution_count": 14,
   "metadata": {},
   "outputs": [],
   "source": [
    "\n",
    "#ind = np.random.randint(0, allbases.shape[0], 8)\n",
    "bases = allbases[ind,:]\n",
    "points = np.delete(allbases, ind, 0)\n",
    "distance = times[ind,:]\n"
   ]
  },
  {
   "cell_type": "code",
   "execution_count": 7,
   "metadata": {
    "scrolled": true
   },
   "outputs": [
    {
     "data": {
      "image/png": "[encoded data removed]",
      "text/plain": [
       "<matplotlib.figure.Figure at 0x11280fa90>"
      ]
     },
     "metadata": {},
     "output_type": "display_data"
    }
   ],
   "source": [
    "r1 = 600\n",
    "r1_coverage = np.any(distance < r1, 0)\n",
    "r1_covered = np.nonzero(r1_coverage)\n",
    "r1_exposed = np.nonzero(np.logical_not(r1_coverage))\n",
    "\n",
    "plt.figure()\n",
    "plt.scatter(demands[r1_covered,0],demands[r1_covered,1], c='b')\n",
    "plt.scatter(demands[r1_exposed,0],demands[r1_exposed,1], c='r')\n",
    "plt.scatter(bases[:,0],bases[:,1], c='y')\n",
    "plt.show()"
   ]
  },
  {
   "cell_type": "markdown",
   "metadata": {},
   "source": [
    "It looks like there is a lot of overlap here. Maybe each time I pick a single base, I will then go into the times and delete the rows that are covered by this base within r1. Then, resort it. Do this 8 times to find the starting set of 8 bases. "
   ]
  },
  {
   "cell_type": "code",
   "execution_count": 8,
   "metadata": {
    "scrolled": true
   },
   "outputs": [
    {
     "name": "stdout",
     "output_type": "stream",
     "text": [
      "Distance: \n",
      " [[  980.   854.  1122.  1222.   464.   476.   773.   824.  1061.  1090.\n",
      "    310.   495.   521.   725.  1410.  1223.   365.   544.   690.   628.\n",
      "    166.   216.   755.   587.   889.   867.   546.   620.   967.   882.\n",
      "    931.   911.   728.   713.   763.   655.   509.   587.   140.   215.\n",
      "   1303.  1239.  1401.  1358.  1345.  1696.   346.  1004.  1494.  1662.\n",
      "    589.   800.   579.   778.   587.  1106.  1057.   982.   835.   740.\n",
      "    780.   954.   713.  1040.   907.   726.  1009.   683.   749.  1013.\n",
      "    471.  1028.  1317.  1166.  1096.  1881.  1197.  1123.   883.   537.\n",
      "   1127.   281.  1029.   568.  1218.  1648.  1142.   740.   707.   779.\n",
      "    219.   724.  1457.   232.   610.  1201.   937.  1577.   620.   557.]\n",
      " [ 1005.   882.  1155.  1255.   484.   498.   755.   806.  1210.  1204.\n",
      "    291.   479.   546.   763.  1437.  1256.   492.   634.   715.   654.\n",
      "    191.   311.   772.   612.   911.   979.   525.   592.   935.   851.\n",
      "    906.   894.   822.   685.   741.   628.   489.   566.   163.   343.\n",
      "   1238.  1225.  1434.  1393.  1315.  1667.   475.  1030.  1463.  1629.\n",
      "    638.   784.   707.   807.   599.  1063.  1025.   959.   811.   715.\n",
      "    803.   920.   684.  1015.  1035.   855.   982.   710.   715.   983.\n",
      "    456.  1054.  1340.  1134.  1070.  1913.  1179.  1108.   866.   561.\n",
      "   1097.   376.  1051.   553.  1267.  1609.  1053.   765.   725.   802.\n",
      "    198.   704.  1433.   224.   711.  1236.   963.  1542.   645.   528.]\n",
      " [  993.   869.  1142.  1242.   472.   486.   768.   819.  1198.  1191.\n",
      "    304.   491.   534.   750.  1425.  1244.   479.   622.   702.   641.\n",
      "    178.   298.   760.   599.   898.   967.   537.   604.   947.   864.\n",
      "    918.   906.   810.   698.   754.   641.   502.   579.   151.   330.\n",
      "   1251.  1238.  1421.  1381.  1328.  1679.   462.  1017.  1476.  1641.\n",
      "    651.   796.   694.   794.   612.  1075.  1038.   972.   824.   728.\n",
      "    791.   933.   697.  1028.  1023.   843.   995.   697.   727.   996.\n",
      "    469.  1041.  1327.  1147.  1083.  1900.  1192.  1121.   879.   548.\n",
      "   1109.   363.  1038.   565.  1255.  1621.  1066.   753.   712.   789.\n",
      "    210.   717.  1445.   238.   698.  1224.   950.  1555.   632.   541.]\n",
      " [ 1051.   925.  1193.  1293.   577.   635.   559.   609.  1203.  1217.\n",
      "    264.   341.   633.   867.  1481.  1293.   492.   658.   760.   699.\n",
      "    431.   311.   825.   658.   998.   995.   447.   435.   783.   698.\n",
      "    997.  1020.   823.   798.   880.   735.   700.   734.   210.   342.\n",
      "   1118.  1135.  1565.  1428.  1161.  1512.   473.  1074.  1309.  1478.\n",
      "    728.  1023.   706.   919.   598.   922.   873.  1179.   992.   585.\n",
      "    851.   770.   529.   856.  1034.   853.  1075.   754.   565.   828.\n",
      "    424.  1098.  1387.   982.   911.  1952.  1116.  1139.   748.   698.\n",
      "    943.   375.  1138.   783.  1262.  1463.  1183.   811.   821.   888.\n",
      "    182.   778.  1272.   590.   704.  1271.  1007.  1393.   691.   373.]\n",
      " [ 1090.   964.  1232.  1333.   617.   675.   642.   692.  1242.  1257.\n",
      "    324.   424.   673.   906.  1526.  1333.   531.   697.   800.   738.\n",
      "    471.   350.   865.   697.  1038.  1034.   334.   371.   718.   634.\n",
      "   1037.  1070.   862.   837.   920.   774.   612.   746.   250.   382.\n",
      "   1054.  1070.  1605.  1468.  1096.  1448.   512.  1114.  1244.  1409.\n",
      "    768.   934.   745.   959.   637.   858.   808.  1096.   927.   668.\n",
      "    890.   705.   464.   791.  1073.   893.  1115.   793.   500.   764.\n",
      "    485.  1138.  1427.   917.   847.  2002.  1051.  1075.   683.   647.\n",
      "    878.   415.  1178.   716.  1302.  1399.  1118.   850.   860.   928.\n",
      "    141.   817.  1208.   524.   744.  1311.  1047.  1328.   730.   308.]\n",
      " [  957.   832.  1100.  1200.   484.   542.   655.   705.  1110.  1124.\n",
      "    191.   376.   540.   773.  1388.  1200.   399.   564.   667.   605.\n",
      "    338.   218.   732.   564.   905.   901.   733.   713.  1060.   975.\n",
      "    904.   927.   729.   705.   787.   641.   657.   641.   117.   249.\n",
      "   1312.  1255.  1472.  1335.  1438.  1789.   380.   981.  1587.  1755.\n",
      "    635.   838.   613.   826.   504.  1200.  1150.  1026.   872.   621.\n",
      "    758.  1047.   806.  1133.   941.   760.   982.   660.   842.  1106.\n",
      "    352.  1005.  1294.  1259.  1189.  1858.  1213.  1138.   921.   514.\n",
      "   1220.   282.  1045.   870.  1169.  1741.  1115.   717.   727.   795.\n",
      "    418.   685.  1550.   512.   611.  1178.   914.  1670.   597.   650.]\n",
      " [ 1173.  1047.  1315.  1415.   657.   669.   963.  1013.  1273.  1302.\n",
      "    601.   684.   714.   938.  1603.  1416.   577.   756.   883.   821.\n",
      "    381.   429.   947.   780.  1079.  1080.   599.   781.   652.   870.\n",
      "    491.   471.   598.   578.   379.   409.   229.   147.   333.   427.\n",
      "    900.   799.  1594.  1551.  1141.  1506.   558.  1196.  1507.  1675.\n",
      "    427.   360.   791.   990.   582.   666.  1018.   540.   395.   843.\n",
      "    973.   811.   951.  1279.  1119.   939.   569.   876.   975.  1026.\n",
      "    574.  1221.  1509.  1167.  1117.  2074.   757.   683.   443.   730.\n",
      "   1140.   493.  1219.   552.  1430.  1339.   702.   933.   900.   969.\n",
      "    522.   350.  1479.   299.   822.  1394.  1129.  1269.   813.   796.]\n",
      " [ 1063.   938.  1206.  1306.   558.   570.   675.   725.  1216.  1230.\n",
      "    211.   396.   614.   840.  1494.  1306.   505.   670.   773.   711.\n",
      "    135.   324.   838.   670.   979.  1007.   593.   521.   869.   784.\n",
      "    978.   957.   835.   754.   809.   696.   555.   633.   223.   355.\n",
      "   1204.  1221.  1546.  1441.  1247.  1598.   486.  1087.  1395.  1564.\n",
      "    703.   846.   719.   893.   627.  1008.   959.  1029.   882.   641.\n",
      "    864.   856.   614.   942.  1047.   866.  1056.   766.   651.   914.\n",
      "    372.  1111.  1400.  1068.   997.  1964.  1244.  1169.   834.   654.\n",
      "   1029.   388.  1119.   614.  1275.  1549.  1189.   823.   801.   870.\n",
      "    239.   771.  1358.   293.   717.  1284.  1020.  1479.   703.   459.]]\n",
      "Min Distance: \n",
      " [  957.   832.  1100.  1200.   464.   476.   559.   609.  1061.  1090.\n",
      "   191.   341.   521.   725.  1388.  1200.   365.   544.   667.   605.\n",
      "   135.   216.   732.   564.   889.   867.   334.   371.   652.   634.\n",
      "   491.   471.   598.   578.   379.   409.   229.   147.   117.   215.\n",
      "   900.   799.  1401.  1335.  1096.  1448.   346.   981.  1244.  1409.\n",
      "   427.   360.   579.   778.   504.   666.   808.   540.   395.   585.\n",
      "   758.   705.   464.   791.   907.   726.   569.   660.   500.   764.\n",
      "   352.  1005.  1294.   917.   847.  1858.   757.   683.   443.   514.\n",
      "   878.   281.  1029.   552.  1169.  1339.   702.   717.   707.   779.\n",
      "   141.   350.  1208.   224.   610.  1178.   914.  1269.   597.   308.]\n"
     ]
    },
    {
     "data": {
      "text/plain": [
       "1858.0"
      ]
     },
     "execution_count": 8,
     "metadata": {},
     "output_type": "execute_result"
    }
   ],
   "source": [
    "# The largest shortest distance \n",
    "print (\"Distance: \\n\", distance)\n",
    "print (\"Min Distance: \\n\", np.min(distance,0))\n",
    "np.max(np.min(distance, 0))"
   ]
  },
  {
   "cell_type": "code",
   "execution_count": 9,
   "metadata": {},
   "outputs": [
    {
     "data": {
      "text/plain": [
       "array([[  32.50477675, -116.96779825],\n",
       "       [  32.50629733, -116.96728167]])"
      ]
     },
     "execution_count": 9,
     "metadata": {},
     "output_type": "execute_result"
    }
   ],
   "source": [
    "ambulances = np.array([[1/4,1/4,1/4,1/4],[1/3,0,1/3,1/3]]).dot(bases[[0,3,5,7],:]) \n",
    "ambulances"
   ]
  },
  {
   "cell_type": "code",
   "execution_count": 10,
   "metadata": {},
   "outputs": [
    {
     "name": "stdout",
     "output_type": "stream",
     "text": [
      "found\n",
      "found\n",
      "[[9 8 7 6 5]\n",
      " [1 2 3 4 5]]\n",
      "[[1 2 3 4 5]\n",
      " [9 8 7 6 5]]\n"
     ]
    }
   ],
   "source": []
  },
  {
   "cell_type": "code",
   "execution_count": null,
   "metadata": {},
   "outputs": [],
   "source": []
  }
 ],
 "metadata": {
  "kernelspec": {
   "display_name": "Python 3",
   "language": "python",
   "name": "python3"
  },
  "language_info": {
   "codemirror_mode": {
    "name": "ipython",
    "version": 3
   },
   "file_extension": ".py",
   "mimetype": "text/x-python",
   "name": "python",
   "nbconvert_exporter": "python",
   "pygments_lexer": "ipython3",
   "version": "3.6.3"
  }
 },
 "nbformat": 4,
 "nbformat_minor": 2
}
