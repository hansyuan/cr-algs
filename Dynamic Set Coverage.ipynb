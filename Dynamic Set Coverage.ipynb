{
 "cells": [
  {
   "cell_type": "markdown",
   "metadata": {},
   "source": [
    "# Optimization algorithms\n",
    "\n",
    "I want to know which ambulance to send. \n",
    "\n",
    "- Travel time: lower = benefit single case\n",
    "- Coverage disruption = drop in % for primary and secondary"
   ]
  },
  {
   "cell_type": "code",
   "execution_count": null,
   "metadata": {
    "scrolled": false
   },
   "outputs": [],
   "source": [
    "from execute import initial\n",
    "initial()"
   ]
  },
  {
   "cell_type": "markdown",
   "metadata": {},
   "source": [
    "Next Step will probably be to write a function that returns the best estimate time traveled between base --> nearest demand point. \n",
    "\n",
    "## Step 1: set coverage algorithm\n",
    "\n",
    "a) through k-means, find a set of 8 ambulances that has all of Tijuana covered by primary"
   ]
  },
  {
   "cell_type": "code",
   "execution_count": null,
   "metadata": {},
   "outputs": [],
   "source": [
    "from execute import find_starting_set\n",
    "find_starting_set()"
   ]
  },
  {
   "cell_type": "markdown",
   "metadata": {},
   "source": [
    "b) find the set of 8 that covers all primary and maximized the secondary coverage. \n",
    "- After having the set of all base combinations that satisfied r1 = 10, find the set with the highest percentage covered by r2=14\n",
    "\n",
    "## Step 2: where the fun is\n",
    "\n",
    "a) Find the travel times of each of the 8 ambulances, through lookup or query\n",
    "\n",
    "b) Find the set disruption each ambulance would cause, as a result of r1 and r2. Include severity as a parameter. \n",
    "Coverage = Primary Coverage + Secondary Coverage \n",
    "\n",
    "## Step 3: \n",
    "\n",
    "a) Implement the dynamic, iterative case. "
   ]
  },
  {
   "cell_type": "markdown",
   "metadata": {},
   "source": [
    "## Various TODOs\n",
    "\n",
    "- Add background image: https://stackoverflow.com/questions/15160123/adding-a-background-image-to-a-plot-with-known-corner-coordinates\n",
    "\n",
    "- Remove redundant Mexico City information"
   ]
  },
  {
   "cell_type": "code",
   "execution_count": null,
   "metadata": {},
   "outputs": [],
   "source": []
  }
 ],
 "metadata": {
  "kernelspec": {
   "display_name": "Python 3",
   "language": "python",
   "name": "python3"
  },
  "language_info": {
   "codemirror_mode": {
    "name": "ipython",
    "version": 3
   },
   "file_extension": ".py",
   "mimetype": "text/x-python",
   "name": "python",
   "nbconvert_exporter": "python",
   "pygments_lexer": "ipython3",
   "version": "3.6.1"
  }
 },
 "nbformat": 4,
 "nbformat_minor": 2
}
