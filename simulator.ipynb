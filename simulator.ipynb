{
 "cells": [
  {
   "cell_type": "code",
   "execution_count": 1,
   "metadata": {},
   "outputs": [],
   "source": [
    "# Through brainstorming, I realized we need a clocked simulator.\n",
    "import time\n",
    "import sys\n",
    "from enum import Enum"
   ]
  },
  {
   "cell_type": "code",
   "execution_count": 2,
   "metadata": {},
   "outputs": [],
   "source": [
    "ambulance_count = 8\n",
    "\n",
    "class Status(Enum):\n",
    "    \"\"\" For ambulances \"\"\"\n",
    "    IDLE = 1\n",
    "    ACTIVE = 2\n",
    "    \n",
    "amb_status = {} \n",
    "for ID in range(0, ambulance_count):\n",
    "    amb_status[ID] = Status.IDLE"
   ]
  },
  {
   "cell_type": "code",
   "execution_count": 3,
   "metadata": {},
   "outputs": [],
   "source": [
    "def timed_execute():\n",
    "    \"\"\" Starts a clock \"\"\"\n",
    "    speed_times = 4\n",
    "    run_time = 3\n",
    "    start = time.time()\n",
    "    time_diff = 0\n",
    "\n",
    "    while True:\n",
    "        \"\"\" This code makes the world run over time. \"\"\"\n",
    "        time.sleep(1/speed_times)\n",
    "        \n",
    "        print (\"\\rTime: \" + str(time_diff))\n",
    "        change_state()\n",
    "        print()\n",
    "        \n",
    "        now = time.time()\n",
    "\n",
    "        time_diff = (now - start)*speed_times\n",
    "        time_diff = int(time_diff)\n",
    "        \n",
    "        if time_diff > run_time: break "
   ]
  },
  {
   "cell_type": "code",
   "execution_count": 4,
   "metadata": {},
   "outputs": [],
   "source": [
    "def change_state():\n",
    "    global amb_status\n",
    "    \n",
    "    output = \"\"\n",
    "    \n",
    "    sys.stdout.flush()\n",
    "    for ID in amb_status:\n",
    "        output += (\"Ambulance %i %s \\n\" %(ID, amb_status[ID]))\n",
    "        \n",
    "    sys.stdout.write(output)\n",
    "        \n",
    "    pass"
   ]
  },
  {
   "cell_type": "code",
   "execution_count": 5,
   "metadata": {},
   "outputs": [
    {
     "name": "stdout",
     "output_type": "stream",
     "text": [
      "Time: 0\n",
      "Ambulance 0 Status.IDLE \n",
      "Ambulance 1 Status.IDLE \n",
      "Ambulance 2 Status.IDLE \n",
      "Ambulance 3 Status.IDLE \n",
      "Ambulance 4 Status.IDLE \n",
      "Ambulance 5 Status.IDLE \n",
      "Ambulance 6 Status.IDLE \n",
      "Ambulance 7 Status.IDLE \n",
      "\n",
      "Time: 1\n",
      "Ambulance 0 Status.IDLE \n",
      "Ambulance 1 Status.IDLE \n",
      "Ambulance 2 Status.IDLE \n",
      "Ambulance 3 Status.IDLE \n",
      "Ambulance 4 Status.IDLE \n",
      "Ambulance 5 Status.IDLE \n",
      "Ambulance 6 Status.IDLE \n",
      "Ambulance 7 Status.IDLE \n",
      "\n",
      "Time: 2\n",
      "Ambulance 0 Status.IDLE \n",
      "Ambulance 1 Status.IDLE \n",
      "Ambulance 2 Status.IDLE \n",
      "Ambulance 3 Status.IDLE \n",
      "Ambulance 4 Status.IDLE \n",
      "Ambulance 5 Status.IDLE \n",
      "Ambulance 6 Status.IDLE \n",
      "Ambulance 7 Status.IDLE \n",
      "\n",
      "Time: 3\n",
      "Ambulance 0 Status.IDLE \n",
      "Ambulance 1 Status.IDLE \n",
      "Ambulance 2 Status.IDLE \n",
      "Ambulance 3 Status.IDLE \n",
      "Ambulance 4 Status.IDLE \n",
      "Ambulance 5 Status.IDLE \n",
      "Ambulance 6 Status.IDLE \n",
      "Ambulance 7 Status.IDLE \n",
      "\n"
     ]
    }
   ],
   "source": [
    "timed_execute()"
   ]
  },
  {
   "cell_type": "markdown",
   "metadata": {},
   "source": [
    "# Taking in Cases:\n",
    "Okay, so now that I have clock, I want to implement reading in the cases that happen in \"real\" time. \n",
    "\n",
    "## Easy but False Simulation \n",
    "\n",
    "One way I could do that is to read it from a file. Characteristics of the events would be:\n",
    "\n",
    "- GPS Location\n",
    "- Severity\n",
    "- Time it comes in\n",
    "\n",
    "Characteristics of the case that are unpredictable, but useful:\n",
    "\n",
    "- The time it takes to accomplish the case\n",
    "- The actual travel time\n",
    "\n",
    "## Harder but Realistic Simulation\n",
    "\n",
    "The other thing I could do is to input "
   ]
  },
  {
   "cell_type": "code",
   "execution_count": null,
   "metadata": {},
   "outputs": [],
   "source": []
  },
  {
   "cell_type": "code",
   "execution_count": null,
   "metadata": {},
   "outputs": [],
   "source": []
  }
 ],
 "metadata": {
  "kernelspec": {
   "display_name": "Python 3",
   "language": "python",
   "name": "python3"
  },
  "language_info": {
   "codemirror_mode": {
    "name": "ipython",
    "version": 3
   },
   "file_extension": ".py",
   "mimetype": "text/x-python",
   "name": "python",
   "nbconvert_exporter": "python",
   "pygments_lexer": "ipython3",
   "version": "3.6.4"
  }
 },
 "nbformat": 4,
 "nbformat_minor": 2
}
