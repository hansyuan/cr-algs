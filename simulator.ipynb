{
 "cells": [
  {
   "cell_type": "markdown",
   "metadata": {},
   "source": [
    "# Simulation\n",
    "\n",
    "Goal: to run a simulation based on **real-time location** tracking of ambulances. The simulation itself may or may not be used. But I hope that the **modules/ideas** making up this simulation could end up being useful.\n",
    "\n",
    "- `Clocked`\n",
    "- `Case events` are randomly entered\n",
    "\n",
    "Personal note: [Github Markdown Including YouTube Videos](https://github.com/adam-p/markdown-here/wiki/Markdown-Cheatsheet)\n",
    "\n",
    "More information written below. "
   ]
  },
  {
   "cell_type": "markdown",
   "metadata": {},
   "source": [
    "# Taking in Cases:\n",
    "Okay, so now that I have clock, I want to implement reading in the cases that happen in \"real\" time. \n",
    "\n",
    "### Easy but False Simulation \n",
    "\n",
    "- One way I could do that is to read it from a file. Characteristics of the events would be:\n",
    "\n",
    "    - `GPS Location`\n",
    "    - `Severity`\n",
    "    - `Time it comes in`\n",
    "\n",
    "- Characteristics of the case that are unpredictable, but useful:\n",
    "\n",
    "    - The `time` it takes to accomplish the case\n",
    "    - The actual `travel time`\n",
    "\n",
    "### Harder but Realistic Simulation\n",
    "\n",
    "- The other thing I could do is to have the events happen `randomly`. This is not hard. \n",
    "\n",
    "- The last thing I could do is to `manually input` the events which is the most difficult since this would be a continuous program that reacts based on user inputs. It would probably use GRPCs. \n",
    "\n",
    "- The random events can be shaped by seeds, which means we may be able to `shape the way new events are initialized`. "
   ]
  },
  {
   "cell_type": "markdown",
   "metadata": {},
   "source": [
    "# Implementing the Simulation\n",
    "\n",
    "- Ambulances should be timed out. When they are sent on cases, they are timed in. There is a `time t` the ambulance is on-case. When the time finishes, it returns to Idle.\n",
    "- New cases are started when the `arguments` come in and the time matches its start date. The other way to start cases is based on real time: manually input it. \n",
    "- We can randomly generate the `timeline` of cases that will backbone the simulation."
   ]
  },
  {
   "cell_type": "markdown",
   "metadata": {},
   "source": [
    "# Data Structures (ABC)\n",
    "\n",
    "\n",
    "### Ambulances\n",
    "\n",
    "a dict of tuple ()\n",
    "\n",
    "```\n",
    "(1) n <-- number of ambulances\n",
    "(2) ambulance [n]\n",
    "(3) each ambulance --> <status, time on-case>\n",
    "\n",
    "```\n",
    "\n",
    "### Base Locations\n",
    "\n",
    "array \n",
    "\n",
    "```\n",
    "(1) base location [x] where x <-- number of bases which is 100 \n",
    "\n",
    "```\n",
    "\n",
    "### Case Locations\n",
    "\n",
    "array\n",
    "\n",
    "```\n",
    "(1) case location [y] where y <-- number of possible demand points \n",
    "    for which we have travel times. \n",
    "\n",
    "```"
   ]
  },
  {
   "cell_type": "markdown",
   "metadata": {},
   "source": [
    "# Pseudocode Algorithm\n",
    "\n",
    "I want to implement the following now:\n",
    "\n",
    "```\n",
    "for each time unit (t):\n",
    "    \n",
    "    update all times (t [amb1 .. amb_n])\n",
    "    \n",
    "    if a new case should start, then start it \n",
    "    \n",
    "    if an on-case should end, then end it\n",
    "    \n",
    "    update the set coverage and coverage change (coverage, delta)\n",
    "    \n",
    "\n",
    "```"
   ]
  },
  {
   "cell_type": "code",
   "execution_count": 17,
   "metadata": {},
   "outputs": [],
   "source": [
    "import time\n",
    "import sys\n",
    "from enum import Enum"
   ]
  },
  {
   "cell_type": "code",
   "execution_count": 18,
   "metadata": {},
   "outputs": [],
   "source": [
    "class Status(Enum):\n",
    "    \"\"\" For ambulances \"\"\"\n",
    "    IDLE = 1\n",
    "    ACTIVE = 2"
   ]
  },
  {
   "cell_type": "code",
   "execution_count": 19,
   "metadata": {},
   "outputs": [],
   "source": [
    "class DataSource(Enum):\n",
    "    \"\"\" There are at least three sources of events for the simulation. \"\"\"\n",
    "    RANDOM = 1"
   ]
  },
  {
   "cell_type": "code",
   "execution_count": 20,
   "metadata": {},
   "outputs": [],
   "source": [
    "def generate_random_amb_event(ambulance_set, demand_set):\n",
    "    \"\"\" Given the set of ambulances and the set of demand points, randomly generate an event \"\"\"\n",
    "    \"\"\" The return type should specify ambulance and demand point.\"\"\"\n",
    "    \n",
    "    return (0,0)"
   ]
  },
  {
   "cell_type": "code",
   "execution_count": 21,
   "metadata": {},
   "outputs": [],
   "source": [
    "def read_next_event(data_source):\n",
    "    \"\"\" Reads the next event from data set or generates one. \"\"\"\n",
    "    \n",
    "    if data_source is DataSource.RANDOM:\n",
    "        (amb, demand) = generate_random_amb_event(ambulance_set, demand_set)\n",
    "    \n",
    "    pass"
   ]
  },
  {
   "cell_type": "code",
   "execution_count": 22,
   "metadata": {},
   "outputs": [],
   "source": [
    "def change_state(amb_status, amb_event):\n",
    "    \"\"\" Takes the ambulance status dictionary, and an event.\n",
    "    If the event has 'occurred', then update amb_status and delete the event.  \"\"\"    \n",
    "    \n",
    "    if type(amb_status) is not dict: raise Exception(\"Wrong type. \") \n",
    "    \n",
    "    output = \"\"\n",
    "    for ID in amb_status: output += (\"Ambulance %i %s \\n\" %(ID, amb_status[ID]))\n",
    "    print(output)\n",
    "        \n",
    "    pass"
   ]
  },
  {
   "cell_type": "code",
   "execution_count": 23,
   "metadata": {},
   "outputs": [],
   "source": [
    "def timed_execute(run_time=1, speed_times=4, amb_status = None):\n",
    "    \"\"\" Starts a clock \"\"\"\n",
    "    \n",
    "    if amb_status == None: raise Exception (\"param amb_status is None\")\n",
    "    if type(amb_status) is not dict: raise Exception (\"amb_status wrong type\")\n",
    "    if type(run_time) is not int: raise Exception(\"run_time not int\")\n",
    "    if type(speed_times) is not int: raise Exception(\"speed_times not int\")\n",
    "\n",
    "    start = time.time()\n",
    "    time_diff = 0\n",
    "\n",
    "    while True:\n",
    "        \"\"\" Every unit of time, update the next ambulance event, print, update time. \"\"\"\n",
    "        \n",
    "        time.sleep(1/speed_times)\n",
    "        print (\"\\rTime: \" + str(time_diff))\n",
    "        \n",
    "        # Read the next event and then change the state:\n",
    "        amb_event = read_next_event(DataSource.RANDOM)\n",
    "        change_state(amb_status, amb_event)\n",
    "        \n",
    "        print()\n",
    "        now = time.time()\n",
    "        time_diff = (now - start)*speed_times\n",
    "        time_diff = int(time_diff)\n",
    "        if time_diff > run_time: break \n",
    "            \n",
    "        "
   ]
  },
  {
   "cell_type": "code",
   "execution_count": 24,
   "metadata": {},
   "outputs": [
    {
     "name": "stdout",
     "output_type": "stream",
     "text": [
      "\r",
      "Time: 0\n"
     ]
    },
    {
     "ename": "NameError",
     "evalue": "name 'ambulance_set' is not defined",
     "output_type": "error",
     "traceback": [
      "\u001b[0;31m---------------------------------------------------------------------------\u001b[0m",
      "\u001b[0;31mNameError\u001b[0m                                 Traceback (most recent call last)",
      "\u001b[0;32m<ipython-input-24-d39c93763b5b>\u001b[0m in \u001b[0;36m<module>\u001b[0;34m()\u001b[0m\n\u001b[1;32m      7\u001b[0m     \u001b[0mamb_status\u001b[0m\u001b[0;34m[\u001b[0m\u001b[0mID\u001b[0m\u001b[0;34m]\u001b[0m \u001b[0;34m=\u001b[0m \u001b[0mStatus\u001b[0m\u001b[0;34m.\u001b[0m\u001b[0mIDLE\u001b[0m\u001b[0;34m\u001b[0m\u001b[0m\n\u001b[1;32m      8\u001b[0m \u001b[0;34m\u001b[0m\u001b[0m\n\u001b[0;32m----> 9\u001b[0;31m \u001b[0mtimed_execute\u001b[0m\u001b[0;34m(\u001b[0m\u001b[0mrun_time\u001b[0m\u001b[0;34m=\u001b[0m\u001b[0mrun_time\u001b[0m\u001b[0;34m,\u001b[0m \u001b[0mspeed_times\u001b[0m\u001b[0;34m=\u001b[0m\u001b[0mspeed\u001b[0m\u001b[0;34m,\u001b[0m \u001b[0mamb_status\u001b[0m \u001b[0;34m=\u001b[0m \u001b[0mamb_status\u001b[0m\u001b[0;34m)\u001b[0m\u001b[0;34m\u001b[0m\u001b[0m\n\u001b[0m",
      "\u001b[0;32m<ipython-input-23-d97a09c51fca>\u001b[0m in \u001b[0;36mtimed_execute\u001b[0;34m(run_time, speed_times, amb_status)\u001b[0m\n\u001b[1;32m     17\u001b[0m \u001b[0;34m\u001b[0m\u001b[0m\n\u001b[1;32m     18\u001b[0m         \u001b[0;31m# Read the next event and then change the state:\u001b[0m\u001b[0;34m\u001b[0m\u001b[0;34m\u001b[0m\u001b[0m\n\u001b[0;32m---> 19\u001b[0;31m         \u001b[0mamb_event\u001b[0m \u001b[0;34m=\u001b[0m \u001b[0mread_next_event\u001b[0m\u001b[0;34m(\u001b[0m\u001b[0mDataSource\u001b[0m\u001b[0;34m.\u001b[0m\u001b[0mRANDOM\u001b[0m\u001b[0;34m)\u001b[0m\u001b[0;34m\u001b[0m\u001b[0m\n\u001b[0m\u001b[1;32m     20\u001b[0m         \u001b[0mchange_state\u001b[0m\u001b[0;34m(\u001b[0m\u001b[0mamb_status\u001b[0m\u001b[0;34m,\u001b[0m \u001b[0mamb_event\u001b[0m\u001b[0;34m)\u001b[0m\u001b[0;34m\u001b[0m\u001b[0m\n\u001b[1;32m     21\u001b[0m \u001b[0;34m\u001b[0m\u001b[0m\n",
      "\u001b[0;32m<ipython-input-21-87be91fe86a4>\u001b[0m in \u001b[0;36mread_next_event\u001b[0;34m(data_source)\u001b[0m\n\u001b[1;32m      3\u001b[0m \u001b[0;34m\u001b[0m\u001b[0m\n\u001b[1;32m      4\u001b[0m     \u001b[0;32mif\u001b[0m \u001b[0mdata_source\u001b[0m \u001b[0;32mis\u001b[0m \u001b[0mDataSource\u001b[0m\u001b[0;34m.\u001b[0m\u001b[0mRANDOM\u001b[0m\u001b[0;34m:\u001b[0m\u001b[0;34m\u001b[0m\u001b[0m\n\u001b[0;32m----> 5\u001b[0;31m         \u001b[0;34m(\u001b[0m\u001b[0mamb\u001b[0m\u001b[0;34m,\u001b[0m \u001b[0mdemand\u001b[0m\u001b[0;34m)\u001b[0m \u001b[0;34m=\u001b[0m \u001b[0mgenerate_random_amb_event\u001b[0m\u001b[0;34m(\u001b[0m\u001b[0mambulance_set\u001b[0m\u001b[0;34m,\u001b[0m \u001b[0mdemand_set\u001b[0m\u001b[0;34m)\u001b[0m\u001b[0;34m\u001b[0m\u001b[0m\n\u001b[0m\u001b[1;32m      6\u001b[0m \u001b[0;34m\u001b[0m\u001b[0m\n\u001b[1;32m      7\u001b[0m     \u001b[0;32mpass\u001b[0m\u001b[0;34m\u001b[0m\u001b[0m\n",
      "\u001b[0;31mNameError\u001b[0m: name 'ambulance_set' is not defined"
     ]
    }
   ],
   "source": [
    "run_time = 2\n",
    "speed = 2\n",
    "\n",
    "ambulance_count = 8\n",
    "amb_status = {} \n",
    "for ID in range(0, ambulance_count):\n",
    "    amb_status[ID] = Status.IDLE\n",
    "\n",
    "timed_execute(run_time=run_time, speed_times=speed, amb_status = amb_status)"
   ]
  },
  {
   "cell_type": "code",
   "execution_count": null,
   "metadata": {},
   "outputs": [],
   "source": []
  },
  {
   "cell_type": "code",
   "execution_count": null,
   "metadata": {},
   "outputs": [],
   "source": []
  },
  {
   "cell_type": "code",
   "execution_count": null,
   "metadata": {},
   "outputs": [],
   "source": []
  }
 ],
 "metadata": {
  "kernelspec": {
   "display_name": "Python 3",
   "language": "python",
   "name": "python3"
  },
  "language_info": {
   "codemirror_mode": {
    "name": "ipython",
    "version": 3
   },
   "file_extension": ".py",
   "mimetype": "text/x-python",
   "name": "python",
   "nbconvert_exporter": "python",
   "pygments_lexer": "ipython3",
   "version": "3.6.4"
  }
 },
 "nbformat": 4,
 "nbformat_minor": 2
}
