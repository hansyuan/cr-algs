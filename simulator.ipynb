{
 "cells": [
  {
   "cell_type": "code",
   "execution_count": 15,
   "metadata": {},
   "outputs": [],
   "source": [
    "# Through brainstorming, I realized we need a clocked simulator. Here it is.\n",
    "import time"
   ]
  },
  {
   "cell_type": "code",
   "execution_count": 41,
   "metadata": {},
   "outputs": [],
   "source": [
    "ambulance_count = 8\n",
    "\n",
    "# I need ambulance enums\n",
    "\n",
    "amb_status = {}\n",
    "\n",
    "for ID in range(0, ambulance_count):\n",
    "    amb_status[ID] = \"idle\""
   ]
  },
  {
   "cell_type": "code",
   "execution_count": 39,
   "metadata": {},
   "outputs": [],
   "source": [
    "def timed_execute():\n",
    "    \"\"\" Starts a clock \"\"\"\n",
    "    speed_times = 4\n",
    "    run_time = 5\n",
    "    start = time.time()\n",
    "    time_diff = 0\n",
    "\n",
    "    while True:\n",
    "        \"\"\" This code makes the world run over time. \"\"\"\n",
    "        time.sleep(1/speed_times)\n",
    "        \n",
    "        print (\"Time: \" + str(time_diff))\n",
    "        change_state()\n",
    "        print()\n",
    "        \n",
    "        now = time.time()\n",
    "\n",
    "        time_diff = (now - start)*speed_times\n",
    "        time_diff = int(time_diff)\n",
    "        \n",
    "        if time_diff > run_time: break "
   ]
  },
  {
   "cell_type": "code",
   "execution_count": 40,
   "metadata": {},
   "outputs": [
    {
     "name": "stdout",
     "output_type": "stream",
     "text": [
      "Time: 0\n",
      "\n",
      "Time: 1\n",
      "\n",
      "Time: 2\n",
      "\n",
      "Time: 3\n",
      "\n",
      "Time: 4\n",
      "\n",
      "Time: 5\n",
      "\n"
     ]
    }
   ],
   "source": [
    "timed_execute()"
   ]
  },
  {
   "cell_type": "code",
   "execution_count": 21,
   "metadata": {},
   "outputs": [],
   "source": [
    "def change_state():\n",
    "    global amb_status\n",
    "    \n",
    "    for ID in amb_status:\n",
    "        \n",
    "    \n",
    "    pass"
   ]
  },
  {
   "cell_type": "code",
   "execution_count": null,
   "metadata": {},
   "outputs": [],
   "source": []
  },
  {
   "cell_type": "code",
   "execution_count": null,
   "metadata": {},
   "outputs": [],
   "source": []
  }
 ],
 "metadata": {
  "kernelspec": {
   "display_name": "Python 3",
   "language": "python",
   "name": "python3"
  },
  "language_info": {
   "codemirror_mode": {
    "name": "ipython",
    "version": 3
   },
   "file_extension": ".py",
   "mimetype": "text/x-python",
   "name": "python",
   "nbconvert_exporter": "python",
   "pygments_lexer": "ipython3",
   "version": "3.6.4"
  }
 },
 "nbformat": 4,
 "nbformat_minor": 2
}
