{
 "cells": [
  {
   "cell_type": "code",
   "execution_count": 4,
   "metadata": {},
   "outputs": [],
   "source": [
    "import sim"
   ]
  },
  {
   "cell_type": "code",
   "execution_count": 5,
   "metadata": {},
   "outputs": [
    {
     "name": "stdout",
     "output_type": "stream",
     "text": [
      "Reading data set: ../data/small_datos.csv\n",
      "case:  1 of 34\n",
      "case:  2 of 34\n",
      "case:  3 of 34\n",
      "case:  4 of 34\n",
      "case:  5 of 34\n",
      "case:  6 of 34\n",
      "case:  7 of 34\n",
      "case:  8 of 34\n",
      "case:  9 of 34\n",
      "case:  10 of 34\n",
      "case:  11 of 34\n",
      "case:  12 of 34\n",
      "case:  13 of 34\n",
      "case:  14 of 34\n",
      "case:  15 of 34\n",
      "case:  16 of 34\n",
      "case:  17 of 34\n",
      "case:  18 of 34\n",
      "case:  19 of 34\n",
      "case:  20 of 34\n",
      "case:  21 of 34\n",
      "case:  22 of 34\n",
      "case:  23 of 34\n",
      "case:  24 of 34\n",
      "case:  25 of 34\n",
      "case:  26 of 34\n",
      "case:  27 of 34\n",
      "case:  28 of 34\n",
      "case:  29 of 34\n",
      "case:  30 of 34\n",
      "case:  31 of 34\n",
      "case:  32 of 34\n",
      "case:  33 of 34\n",
      "case:  34 of 34\n"
     ]
    }
   ],
   "source": [
    "sim.main()"
   ]
  },
  {
   "cell_type": "code",
   "execution_count": null,
   "metadata": {},
   "outputs": [],
   "source": []
  },
  {
   "cell_type": "code",
   "execution_count": null,
   "metadata": {},
   "outputs": [],
   "source": []
  }
 ],
 "metadata": {
  "kernelspec": {
   "display_name": "Python 3",
   "language": "python",
   "name": "python3"
  },
  "language_info": {
   "codemirror_mode": {
    "name": "ipython",
    "version": 3
   },
   "file_extension": ".py",
   "mimetype": "text/x-python",
   "name": "python",
   "nbconvert_exporter": "python",
   "pygments_lexer": "ipython3",
   "version": "3.6.4"
  }
 },
 "nbformat": 4,
 "nbformat_minor": 2
}
