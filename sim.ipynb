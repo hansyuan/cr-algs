{
 "cells": [
  {
   "cell_type": "code",
   "execution_count": 1,
   "metadata": {},
   "outputs": [],
   "source": [
    "import sim\n",
    "import scipy"
   ]
  },
  {
   "cell_type": "code",
   "execution_count": 2,
   "metadata": {},
   "outputs": [
    {
     "data": {
      "text/plain": [
       "11"
      ]
     },
     "execution_count": 2,
     "metadata": {},
     "output_type": "execute_result"
    }
   ],
   "source": [
    "# Try to do the CSE 199 starting ambulances.\n",
    "import execute\n",
    "starter = execute.get_starting_set(11, 600)\n",
    "len(starter)"
   ]
  },
  {
   "cell_type": "code",
   "execution_count": 3,
   "metadata": {},
   "outputs": [],
   "source": [
    "\n",
    "import read_data as read_data\n",
    "import numpy as np\n",
    "from matplotlib import pyplot as plt\n",
    "import copy\n",
    "import time\n",
    "\n",
    "# Data\n",
    "(calls, allbases, demands, times, calls_latlong) = read_data.populate_data()\n",
    "allbases = np.delete(np.array(allbases), 2, 1)\n",
    "demands = np.delete(np.array(demands), 2, 1)\n",
    "times = np.array(times)\n",
    "calls_latlong = np.array(calls_latlong)\n",
    "\n",
    "num_ambulances = 8"
   ]
  },
  {
   "cell_type": "code",
   "execution_count": 4,
   "metadata": {},
   "outputs": [
    {
     "name": "stdout",
     "output_type": "stream",
     "text": [
      "(969, 100)\n",
      "(969, 72)\n",
      "(969, 54)\n",
      "(969, 38)\n",
      "(969, 26)\n",
      "(969, 19)\n",
      "(969, 15)\n",
      "(969, 11)\n",
      "(969, 8)\n",
      "(969, 6)\n",
      "(969, 4)\n",
      "Total Covered:  97\n"
     ]
    }
   ],
   "source": [
    "import copy\n",
    "# Pasted from yesterday: choose bases using greedy\n",
    "# Get the first base\n",
    "times_copy = copy.deepcopy(times)\n",
    "\n",
    "# Continually get the min cost row (most optimal base)\n",
    "# Delete the columns that are covered by this base by r1\n",
    "# Recalculate the total cost for each base\n",
    "# Repeat\n",
    "\n",
    "r1 = 600\n",
    "\n",
    "numbases = 11\n",
    "list_bases = []\n",
    "total_covered = []\n",
    "for x in range(numbases):\n",
    "    print(np.shape(times_copy))\n",
    "    covered = []\n",
    "    row_num = 0\n",
    "    for row in times_copy:\n",
    "        count = 0\n",
    "        for col in row:\n",
    "            if col < r1:\n",
    "                count += 1\n",
    "        covered.append((row_num, count))\n",
    "        row_num += 1\n",
    "    \n",
    "    d = [('index', int), ('covered', int)]\n",
    "    covered = np.array(covered, d)\n",
    "    \n",
    "    min_cost = (np.sort(covered, order='covered', kind='mergesort')[-1])\n",
    "\n",
    "    list_bases.append(min_cost[0])\n",
    "    \n",
    "    # Delete the columns (demands) that are covered by r1.\n",
    "    \n",
    "    primary_covered = [times_copy[min_cost[0]][i] < r1 for i in range(len(times_copy[min_cost[0]]))]\n",
    "    covered_indices = [i for i in range(len(primary_covered)) if primary_covered[i] ]\n",
    "    total_covered += covered_indices\n",
    "\n",
    "    times_copy = np.delete(times_copy, covered_indices, axis=1)\n",
    "\n",
    "ind = list_bases\n",
    "print(\"Total Covered: \" , len(total_covered))"
   ]
  },
  {
   "cell_type": "code",
   "execution_count": 5,
   "metadata": {},
   "outputs": [
    {
     "name": "stdout",
     "output_type": "stream",
     "text": [
      "Reading data set: ../data/small_datos.csv\n",
      "case:  1 of 34\n",
      "case:  2 of 34\n",
      "case:  3 of 34\n",
      "case:  4 of 34\n",
      "case:  5 of 34\n",
      "case:  6 of 34\n",
      "case:  7 of 34\n",
      "case:  8 of 34\n",
      "case:  9 of 34\n",
      "case:  10 of 34\n",
      "case:  11 of 34\n",
      "case:  12 of 34\n",
      "case:  13 of 34\n",
      "case:  14 of 34\n",
      "case:  15 of 34\n",
      "case:  16 of 34\n",
      "case:  17 of 34\n",
      "case:  18 of 34\n",
      "case:  19 of 34\n",
      "case:  20 of 34\n",
      "case:  21 of 34\n",
      "case:  22 of 34\n",
      "case:  23 of 34\n",
      "case:  24 of 34\n",
      "case:  25 of 34\n",
      "case:  26 of 34\n",
      "case:  27 of 34\n",
      "case:  28 of 34\n",
      "case:  29 of 34\n",
      "case:  30 of 34\n",
      "case:  31 of 34\n",
      "case:  32 of 34\n",
      "case:  33 of 34\n",
      "case:  34 of 34\n"
     ]
    }
   ],
   "source": [
    "sim.run_through_cases()"
   ]
  },
  {
   "cell_type": "code",
   "execution_count": null,
   "metadata": {},
   "outputs": [],
   "source": []
  }
 ],
 "metadata": {
  "kernelspec": {
   "display_name": "Python 3",
   "language": "python",
   "name": "python3"
  },
  "language_info": {
   "codemirror_mode": {
    "name": "ipython",
    "version": 3
   },
   "file_extension": ".py",
   "mimetype": "text/x-python",
   "name": "python",
   "nbconvert_exporter": "python",
   "pygments_lexer": "ipython3",
   "version": "3.6.4"
  }
 },
 "nbformat": 4,
 "nbformat_minor": 2
}
