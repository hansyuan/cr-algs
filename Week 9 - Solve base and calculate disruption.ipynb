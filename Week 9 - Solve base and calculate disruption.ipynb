{
 "cells": [
  {
   "cell_type": "markdown",
   "metadata": {},
   "source": [
    "## "
   ]
  },
  {
   "cell_type": "code",
   "execution_count": 3,
   "metadata": {},
   "outputs": [],
   "source": [
    "# Copied over\n",
    "import read_data\n",
    "import numpy as np\n",
    "from matplotlib import pyplot as plt\n",
    "import copy\n",
    "\n",
    "from scipy.cluster.vq import vq, kmeans, whiten\n"
   ]
  },
  {
   "cell_type": "code",
   "execution_count": 4,
   "metadata": {},
   "outputs": [],
   "source": [
    "(calls, allbases, demands, times, calls_latlong) = read_data.populate_data()\n",
    "\n",
    "allbases = np.delete(np.array(allbases), 2, 1) # Array of all the bases\n",
    "demands = np.delete(np.array(demands), 2, 1)   # Array of all the demands\n",
    "times = np.array(times)                        # Array of all the times\n",
    "calls_latlong = np.array(calls_latlong)        # Array of location of the calls"
   ]
  },
  {
   "cell_type": "code",
   "execution_count": null,
   "metadata": {},
   "outputs": [],
   "source": []
  }
 ],
 "metadata": {
  "kernelspec": {
   "display_name": "Python 3",
   "language": "python",
   "name": "python3"
  },
  "language_info": {
   "codemirror_mode": {
    "name": "ipython",
    "version": 3
   },
   "file_extension": ".py",
   "mimetype": "text/x-python",
   "name": "python",
   "nbconvert_exporter": "python",
   "pygments_lexer": "ipython3",
   "version": "3.6.3"
  }
 },
 "nbformat": 4,
 "nbformat_minor": 2
}
