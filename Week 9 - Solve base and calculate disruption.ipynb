{
 "cells": [
  {
   "cell_type": "markdown",
   "metadata": {},
   "source": [
    "- Get a pretty good initial set of bases\n",
    "- Take out one of the bases \n",
    "- What happens to set coverage? (Disruption?)"
   ]
  },
  {
   "cell_type": "code",
   "execution_count": 1,
   "metadata": {},
   "outputs": [],
   "source": [
    "# Copied over\n",
    "import read_data\n",
    "import numpy as np\n",
    "from matplotlib import pyplot as plt\n",
    "import copy\n",
    "\n",
    "from scipy.cluster.vq import vq, kmeans, whiten\n"
   ]
  },
  {
   "cell_type": "code",
   "execution_count": 2,
   "metadata": {},
   "outputs": [],
   "source": [
    "(calls, allbases, demands, times, calls_latlong) = read_data.populate_data()\n",
    "\n",
    "allbases = np.delete(np.array(allbases), 2, 1) # Array of all the bases\n",
    "demands = np.delete(np.array(demands), 2, 1)   # Array of all the demands\n",
    "times = np.array(times)                        # Array of all the times\n",
    "calls_latlong = np.array(calls_latlong)        # Array of location of the calls"
   ]
  },
  {
   "cell_type": "code",
   "execution_count": 3,
   "metadata": {
    "scrolled": false
   },
   "outputs": [
    {
     "name": "stdout",
     "output_type": "stream",
     "text": [
      "Ambulance Location #1\n",
      "(969, 100)\n",
      "(26, 28)\n",
      "[ 1173.  1047.  1315.  1415.   657.   669.   963.  1013.  1273.  1302.\n",
      "   601.   684.   714.   938.  1603.  1416.   577.   756.   883.   821.\n",
      "   381.   429.   947.   780.  1079.  1080.   599.   781.   652.   870.\n",
      "   491.   471.   598.   578.   379.   409.   229.   147.   333.   427.\n",
      "   900.   799.  1594.  1551.  1141.  1506.   558.  1196.  1507.  1675.\n",
      "   427.   360.   791.   990.   582.   666.  1018.   540.   395.   843.\n",
      "   973.   811.   951.  1279.  1119.   939.   569.   876.   975.  1026.\n",
      "   574.  1221.  1509.  1167.  1117.  2074.   757.   683.   443.   730.\n",
      "  1140.   493.  1219.   552.  1430.  1339.   702.   933.   900.   969.\n",
      "   522.   350.  1479.   299.   822.  1394.  1129.  1269.   813.   796.]\n",
      "Covered:  28 [16, 20, 21, 26, 30, 31, 32, 33, 34, 35, 36, 37, 38, 39, 46, 50, 51, 54, 57, 58, 66, 70, 78, 81, 83, 90, 91, 93]\n",
      "\n",
      "\n",
      "Ambulance Location #2\n",
      "(968, 72)\n",
      "(856, 18)\n",
      "[  804.   681.   954.  1054.   267.   281.   635.   772.  1091.   986.\n",
      "   545.   442.   329.   545.  1236.  1055.   679.   514.   453.   571.\n",
      "   411.   693.   762.   932.  1274.  1191.  1294.  1317.  1268.  1192.\n",
      "  1535.  2007.   829.  1803.  1969.   721.   589.  1210.  1365.   453.\n",
      "   640.  1260.   999.  1064.  1061.   881.   509.  1055.  1323.   853.\n",
      "  1139.  1474.  1410.  1712.  1271.  1200.   398.  1436.   834.  1091.\n",
      "  1726.  1109.   564.   508.   584.  1772.   861.  1035.   762.  1660.\n",
      "   444.   868.]\n",
      "Covered:  18 [4, 5, 10, 11, 12, 13, 17, 18, 19, 20, 36, 39, 46, 56, 62, 63, 64, 70]\n",
      "\n",
      "\n",
      "Ambulance Location #3\n",
      "(967, 54)\n",
      "(159, 16)\n",
      "[  384.   449.   301.   265.  1564.  1688.   410.   541.   780.   593.\n",
      "   982.   405.   601.  1749.  1998.  2012.  2180.  2123.   381.   532.\n",
      "  2475.  2826.   331.  2623.  2171.   799.  2021.  2186.  1309.  2083.\n",
      "  1842.  1691.   453.   839.  1878.  2142.  1563.  1108.  2295.  2225.\n",
      "  1202.  2081.  2006.  2256.   327.   360.  2650.  1983.  2586.   858.\n",
      "   571.   461.  2549.  1686.]\n",
      "Covered:  16 [0, 1, 2, 3, 6, 7, 9, 11, 18, 19, 22, 32, 44, 45, 50, 51]\n",
      "\n",
      "\n",
      "Ambulance Location #4\n",
      "(966, 38)\n",
      "(748, 12)\n",
      "[ 1172.  1126.  2293.  1498.  1864.   953.   874.   571.   480.   480.\n",
      "   462.   813.  1038.  1171.  1571.   425.   546.  1559.   584.   933.\n",
      "  1144.  1719.   784.   851.  1910.  2047.   226.   533.  2769.   484.\n",
      "   507.   964.   818.   546.   914.  1574.   752.   812.]\n",
      "Covered:  12 [7, 8, 9, 10, 15, 16, 18, 26, 27, 29, 30, 33]\n",
      "\n",
      "\n",
      "Ambulance Location #5\n",
      "(965, 26)\n",
      "(684, 7)\n",
      "[  584.   431.  1881.  1379.  1659.   981.   981.  1713.  1467.  1518.\n",
      "  1452.   515.   419.    99.  1600.   599.   544.  1175.  1074.  2357.\n",
      "  1100.  1655.  1479.  1456.  1588.   693.]\n",
      "Covered:  7 [0, 1, 11, 12, 13, 15, 16]\n",
      "\n",
      "\n",
      "Ambulance Location #6\n",
      "(964, 19)\n",
      "(824, 4)\n",
      "[ 1507.   402.   881.  1202.  1544.  2277.  2073.  2239.   588.   510.\n",
      "  1658.  1837.  1940.  1706.  2055.  2042.   582.  1988.  1138.]\n",
      "Covered:  4 [1, 8, 9, 16]\n",
      "\n",
      "\n",
      "Ambulance Location #7\n",
      "(963, 15)\n",
      "(598, 4)\n",
      "[ 1952.  1467.   510.   496.  1205.   817.   983.  1569.  1429.  2428.\n",
      "   451.  1147.   971.  1080.   415.]\n",
      "Covered:  4 [2, 3, 10, 14]\n",
      "\n",
      "\n",
      "Ambulance Location #8\n",
      "(962, 11)\n",
      "(954, 3)\n",
      "[ 2130.  1672.   543.  1192.   761.  1746.  2017.  2605.   296.  1002.\n",
      "   281.]\n",
      "Covered:  3 [2, 8, 10]\n",
      "\n",
      "\n",
      "Total Covered:  92\n"
     ]
    }
   ],
   "source": [
    "# Get the first base\n",
    "times_copy = copy.deepcopy(times)\n",
    "\n",
    "\n",
    "# Continually get the min cost row (most optimal base)\n",
    "# Delete the columns that are covered by this base by r1\n",
    "# Recalculate the total cost for each base\n",
    "# Repeat\n",
    "\n",
    "r1 = 600\n",
    "\n",
    "numbases = 8\n",
    "list_bases = []\n",
    "total_covered = []\n",
    "for x in range(numbases):\n",
    "    print(\"Ambulance Location #%d\" %(x+1))\n",
    "    print(np.shape(times_copy))\n",
    "    covered = []\n",
    "    row_num = 0\n",
    "    for row in times_copy:\n",
    "        count = 0\n",
    "        for col in row:\n",
    "            if col < r1:\n",
    "                count += 1\n",
    "#                 print(row_num, count, col, r1)\n",
    "        covered.append((row_num, count))\n",
    "        row_num += 1\n",
    "    \n",
    "    d = [('index', int), ('covered', int)]\n",
    "    covered = np.array(covered, d)\n",
    "    \n",
    "    min_cost = (np.sort(covered, order='covered', kind='mergesort')[-1])\n",
    "    #print((np.sort(covered, order='covered', kind='mergesort')))\n",
    "    print(min_cost)\n",
    "    print(times_copy[min_cost[0]])\n",
    "    \n",
    "    list_bases.append(min_cost[0])\n",
    "    \n",
    "    # Delete the columns (demands) that are covered by r1.\n",
    "    \n",
    "    primary_covered = [times_copy[min_cost[0]][i] < r1 for i in range(len(times_copy[min_cost[0]]))]\n",
    "    #print(primary_covered)\n",
    "    covered_indices = [i for i in range(len(primary_covered)) if primary_covered[i] ]\n",
    "    print(\"Covered: \", len(covered_indices), covered_indices)\n",
    "    total_covered += covered_indices\n",
    "    \n",
    "    times_copy = np.delete(times_copy, min_cost[0], axis=0)\n",
    "    times_copy = np.delete(times_copy, covered_indices, axis=1)\n",
    "    print(\"\\n\")\n",
    "\n",
    "ind = list_bases\n",
    "print(\"Total Covered: \" , len(total_covered))"
   ]
  },
  {
   "cell_type": "code",
   "execution_count": 4,
   "metadata": {},
   "outputs": [
    {
     "name": "stdout",
     "output_type": "stream",
     "text": [
      "[26, 856, 159, 748, 684, 824, 598, 954]\n",
      "(969, 100)\n",
      "(array([ 0,  1,  2,  3,  4,  5,  8,  9, 11, 12, 16, 17, 18, 19, 20, 21, 22,\n",
      "       23, 24, 26, 30, 31, 32, 33, 34, 35, 36, 37, 38, 39, 42, 43, 45, 46,\n",
      "       47, 50, 51, 52, 54, 57, 58, 59, 60, 64, 65, 66, 67, 69, 70, 73, 74,\n",
      "       78, 79, 81, 82, 83, 84, 87, 89, 90, 91, 92, 93, 94, 96, 98]),)\n",
      "Covered 66.0/100\n"
     ]
    },
    {
     "data": {
      "image/png": "[encoded data removed]",
      "text/plain": [
       "<matplotlib.figure.Figure at 0x1058b35f8>"
      ]
     },
     "metadata": {},
     "output_type": "display_data"
    }
   ],
   "source": [
    "#ind = np.random.randint(0, allbases.shape[0], 8)\n",
    "print(ind)\n",
    "print(np.shape(times))\n",
    "\n",
    "bases = allbases[ind,:]\n",
    "points = np.delete(allbases, ind, 0)\n",
    "distance = times[ind,:]\n",
    "# print((distance))\n",
    "\n",
    "r1 = 600\n",
    "r1_coverage = np.any(distance < r1, 0)\n",
    "\n",
    "r1_covered = np.nonzero(r1_coverage)\n",
    "print(r1_covered)\n",
    "c = np.shape(r1_covered)[1]\n",
    "r1_exposed = np.nonzero(np.logical_not(r1_coverage))\n",
    "e = np.shape(r1_exposed)[1]\n",
    "ratio = (c/(c+e))\n",
    "print(\"Covered %.1f/100\" %(ratio*100))\n",
    "\n",
    "\n",
    "plt.figure()\n",
    "plt.scatter(demands[r1_covered,0],demands[r1_covered,1], c='b')\n",
    "plt.scatter(demands[r1_exposed,0],demands[r1_exposed,1], c='r')\n",
    "plt.scatter(bases[:,0],bases[:,1], c='y')\n",
    "plt.show()"
   ]
  },
  {
   "cell_type": "markdown",
   "metadata": {},
   "source": [
    "Okay, I don't see why there is a discrepancy between the set coverage algorithm which found 92% coverage and the code here that says I'm 66% covered"
   ]
  },
  {
   "cell_type": "code",
   "execution_count": null,
   "metadata": {},
   "outputs": [],
   "source": []
  },
  {
   "cell_type": "code",
   "execution_count": null,
   "metadata": {},
   "outputs": [],
   "source": []
  },
  {
   "cell_type": "code",
   "execution_count": null,
   "metadata": {},
   "outputs": [],
   "source": []
  }
 ],
 "metadata": {
  "kernelspec": {
   "display_name": "Python 3",
   "language": "python",
   "name": "python3"
  },
  "language_info": {
   "codemirror_mode": {
    "name": "ipython",
    "version": 3
   },
   "file_extension": ".py",
   "mimetype": "text/x-python",
   "name": "python",
   "nbconvert_exporter": "python",
   "pygments_lexer": "ipython3",
   "version": "3.6.4"
  }
 },
 "nbformat": 4,
 "nbformat_minor": 2
}
